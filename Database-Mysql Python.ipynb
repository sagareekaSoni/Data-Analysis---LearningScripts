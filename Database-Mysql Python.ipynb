{
 "cells": [
  {
   "cell_type": "code",
   "execution_count": 1,
   "metadata": {},
   "outputs": [],
   "source": [
    "# install a connector\n",
    "# !pip install mysql-connector-python"
   ]
  },
  {
   "cell_type": "code",
   "execution_count": 2,
   "metadata": {},
   "outputs": [],
   "source": [
    "# import mconnection\n",
    "import mysql.connector as connection\n",
    "import csv"
   ]
  },
  {
   "cell_type": "code",
   "execution_count": 3,
   "metadata": {},
   "outputs": [],
   "source": [
    "#credentials\n",
    "hotname = \"localhost\"\n",
    "username = \"root\"\n",
    "password = \"****\"\n",
    "\n",
    "#Establish connect\n",
    "mydb = connection.connect(host=hotname,user=username, passwd=password)\n",
    "cursor = mydb.cursor()"
   ]
  },
  {
   "cell_type": "markdown",
   "metadata": {},
   "source": [
    "# Query1 : Check the database names"
   ]
  },
  {
   "cell_type": "code",
   "execution_count": 4,
   "metadata": {},
   "outputs": [
    {
     "data": {
      "text/plain": [
       "[('information_schema',),\n",
       " ('mysql',),\n",
       " ('performance_schema',),\n",
       " ('sakila',),\n",
       " ('student546',),\n",
       " ('sys',),\n",
       " ('world',)]"
      ]
     },
     "execution_count": 4,
     "metadata": {},
     "output_type": "execute_result"
    }
   ],
   "source": [
    "# write query and excute \n",
    "query = \"SHOW DATABASES\"  \n",
    "cursor.execute(query)\n",
    "cursor.fetchall()"
   ]
  },
  {
   "cell_type": "markdown",
   "metadata": {},
   "source": [
    "# Query2: Drop database not need"
   ]
  },
  {
   "cell_type": "code",
   "execution_count": 5,
   "metadata": {},
   "outputs": [
    {
     "data": {
      "text/plain": [
       "[]"
      ]
     },
     "execution_count": 5,
     "metadata": {},
     "output_type": "execute_result"
    }
   ],
   "source": [
    "# write query and excute \n",
    "query = \"DROP DATABASE student546\"  \n",
    "cursor.execute(query)\n",
    "cursor.fetchall()"
   ]
  },
  {
   "cell_type": "code",
   "execution_count": 6,
   "metadata": {},
   "outputs": [
    {
     "data": {
      "text/plain": [
       "[('information_schema',),\n",
       " ('mysql',),\n",
       " ('performance_schema',),\n",
       " ('sakila',),\n",
       " ('sys',),\n",
       " ('world',)]"
      ]
     },
     "execution_count": 6,
     "metadata": {},
     "output_type": "execute_result"
    }
   ],
   "source": [
    "# Check the database to varify\n",
    "query = \"SHOW DATABASES\"  \n",
    "cursor.execute(query)\n",
    "cursor.fetchall()"
   ]
  },
  {
   "cell_type": "markdown",
   "metadata": {},
   "source": [
    "# Query3: SELECT"
   ]
  },
  {
   "cell_type": "code",
   "execution_count": 7,
   "metadata": {},
   "outputs": [
    {
     "data": {
      "text/plain": [
       "[(1, 'PENELOPE', 'GUINESS', datetime.datetime(2006, 2, 15, 4, 34, 33)),\n",
       " (2, 'NICK', 'WAHLBERG', datetime.datetime(2006, 2, 15, 4, 34, 33)),\n",
       " (3, 'ED', 'CHASE', datetime.datetime(2006, 2, 15, 4, 34, 33)),\n",
       " (4, 'JENNIFER', 'DAVIS', datetime.datetime(2006, 2, 15, 4, 34, 33)),\n",
       " (5, 'JOHNNY', 'LOLLOBRIGIDA', datetime.datetime(2006, 2, 15, 4, 34, 33)),\n",
       " (6, 'BETTE', 'NICHOLSON', datetime.datetime(2006, 2, 15, 4, 34, 33)),\n",
       " (7, 'GRACE', 'MOSTEL', datetime.datetime(2006, 2, 15, 4, 34, 33)),\n",
       " (8, 'MATTHEW', 'JOHANSSON', datetime.datetime(2006, 2, 15, 4, 34, 33)),\n",
       " (9, 'JOE', 'SWANK', datetime.datetime(2006, 2, 15, 4, 34, 33)),\n",
       " (10, 'CHRISTIAN', 'GABLE', datetime.datetime(2006, 2, 15, 4, 34, 33))]"
      ]
     },
     "execution_count": 7,
     "metadata": {},
     "output_type": "execute_result"
    }
   ],
   "source": [
    "query= \"SELECT * FROM  sakila.actor LIMIT 10\"\n",
    "cursor.execute(query)\n",
    "cursor.fetchall()"
   ]
  },
  {
   "cell_type": "markdown",
   "metadata": {},
   "source": [
    "# Query4: WHERE"
   ]
  },
  {
   "cell_type": "code",
   "execution_count": 8,
   "metadata": {},
   "outputs": [
    {
     "data": {
      "text/plain": [
       "[(2, 'NICK', 'WAHLBERG', datetime.datetime(2006, 2, 15, 4, 34, 33)),\n",
       " (44, 'NICK', 'STALLONE', datetime.datetime(2006, 2, 15, 4, 34, 33)),\n",
       " (166, 'NICK', 'DEGENERES', datetime.datetime(2006, 2, 15, 4, 34, 33))]"
      ]
     },
     "execution_count": 8,
     "metadata": {},
     "output_type": "execute_result"
    }
   ],
   "source": [
    "query= \"SELECT * FROM  sakila.actor WHERE first_name = 'NICK'\"\n",
    "cursor.execute(query)\n",
    "cursor.fetchall()"
   ]
  },
  {
   "cell_type": "markdown",
   "metadata": {},
   "source": [
    "# Query5: ORDER BY"
   ]
  },
  {
   "cell_type": "code",
   "execution_count": 9,
   "metadata": {},
   "outputs": [
    {
     "data": {
      "text/plain": [
       "[(11, 'ZERO', 'CAGE', datetime.datetime(2006, 2, 15, 4, 34, 33)),\n",
       " (28, 'WOODY', 'HOFFMAN', datetime.datetime(2006, 2, 15, 4, 34, 33)),\n",
       " (82, 'WOODY', 'JOLIE', datetime.datetime(2006, 2, 15, 4, 34, 33)),\n",
       " (175, 'WILLIAM', 'HACKMAN', datetime.datetime(2006, 2, 15, 4, 34, 33)),\n",
       " (168, 'WILL', 'WILSON', datetime.datetime(2006, 2, 15, 4, 34, 33)),\n",
       " (140, 'WHOOPI', 'HURT', datetime.datetime(2006, 2, 15, 4, 34, 33)),\n",
       " (108, 'WARREN', 'NOLTE', datetime.datetime(2006, 2, 15, 4, 34, 33)),\n",
       " (119, 'WARREN', 'JACKMAN', datetime.datetime(2006, 2, 15, 4, 34, 33)),\n",
       " (102, 'WALTER', 'TORN', datetime.datetime(2006, 2, 15, 4, 34, 33)),\n",
       " (14, 'VIVIEN', 'BERGEN', datetime.datetime(2006, 2, 15, 4, 34, 33))]"
      ]
     },
     "execution_count": 9,
     "metadata": {},
     "output_type": "execute_result"
    }
   ],
   "source": [
    "query= \"SELECT * FROM  sakila.actor ORDER BY first_name DESC LIMIT 10\"\n",
    "cursor.execute(query)\n",
    "cursor.fetchall()"
   ]
  },
  {
   "cell_type": "markdown",
   "metadata": {},
   "source": [
    "# Query6:  LIKE OPERATOR"
   ]
  },
  {
   "cell_type": "code",
   "execution_count": 10,
   "metadata": {},
   "outputs": [
    {
     "data": {
      "text/plain": [
       "[(4, 'JENNIFER', 'DAVIS', datetime.datetime(2006, 2, 15, 4, 34, 33)),\n",
       " (46, 'PARKER', 'GOLDBERG', datetime.datetime(2006, 2, 15, 4, 34, 33)),\n",
       " (87, 'SPENCER', 'PECK', datetime.datetime(2006, 2, 15, 4, 34, 33)),\n",
       " (91, 'CHRISTOPHER', 'BERRY', datetime.datetime(2006, 2, 15, 4, 34, 33)),\n",
       " (100, 'SPENCER', 'DEPP', datetime.datetime(2006, 2, 15, 4, 34, 33)),\n",
       " (102, 'WALTER', 'TORN', datetime.datetime(2006, 2, 15, 4, 34, 33)),\n",
       " (109, 'SYLVESTER', 'DERN', datetime.datetime(2006, 2, 15, 4, 34, 33)),\n",
       " (143, 'RIVER', 'DEAN', datetime.datetime(2006, 2, 15, 4, 34, 33)),\n",
       " (163, 'CHRISTOPHER', 'WEST', datetime.datetime(2006, 2, 15, 4, 34, 33))]"
      ]
     },
     "execution_count": 10,
     "metadata": {},
     "output_type": "execute_result"
    }
   ],
   "source": [
    "query= \"SELECT * FROM  sakila.actor WHERE first_name LIKE '%ER' \"\n",
    "cursor.execute(query)\n",
    "cursor.fetchall()"
   ]
  },
  {
   "cell_type": "markdown",
   "metadata": {},
   "source": [
    "# Query7: Group by "
   ]
  },
  {
   "cell_type": "code",
   "execution_count": 11,
   "metadata": {},
   "outputs": [
    {
     "data": {
      "text/plain": [
       "[('PENELOPE', 4),\n",
       " ('JULIA', 4),\n",
       " ('KENNETH', 4),\n",
       " ('NICK', 3),\n",
       " ('ED', 3),\n",
       " ('CAMERON', 3),\n",
       " ('DAN', 3),\n",
       " ('MATTHEW', 3),\n",
       " ('CHRISTIAN', 3),\n",
       " ('BURT', 3)]"
      ]
     },
     "execution_count": 11,
     "metadata": {},
     "output_type": "execute_result"
    }
   ],
   "source": [
    "query= \"SELECT first_name ,COUNT(first_name) FROM  sakila.actor GROUP BY first_name ORDER BY COUNT(first_name) DESC LIMIT 10\"\n",
    "cursor.execute(query)\n",
    "cursor.fetchall()"
   ]
  },
  {
   "cell_type": "markdown",
   "metadata": {},
   "source": [
    "# Query8: HAVING  "
   ]
  },
  {
   "cell_type": "code",
   "execution_count": 12,
   "metadata": {},
   "outputs": [
    {
     "data": {
      "text/plain": [
       "[('PENELOPE',), ('JULIA',), ('KENNETH',)]"
      ]
     },
     "execution_count": 12,
     "metadata": {},
     "output_type": "execute_result"
    }
   ],
   "source": [
    "query= \"SELECT first_name FROM  sakila.actor GROUP BY (first_name) HAVING COUNT(first_name) = 4\"\n",
    "cursor.execute(query)\n",
    "cursor.fetchall()"
   ]
  },
  {
   "cell_type": "markdown",
   "metadata": {},
   "source": [
    "# Query9: Join "
   ]
  },
  {
   "cell_type": "code",
   "execution_count": 13,
   "metadata": {},
   "outputs": [
    {
     "data": {
      "text/plain": [
       "[(1, 'Kabul', 'AFG', 'Kabol', 1780000, 'AFG', 'Balochi', 'F', 0.9),\n",
       " (1, 'Kabul', 'AFG', 'Kabol', 1780000, 'AFG', 'Dari', 'T', 32.1),\n",
       " (1, 'Kabul', 'AFG', 'Kabol', 1780000, 'AFG', 'Pashto', 'T', 52.4),\n",
       " (1, 'Kabul', 'AFG', 'Kabol', 1780000, 'AFG', 'Turkmenian', 'F', 1.9),\n",
       " (1, 'Kabul', 'AFG', 'Kabol', 1780000, 'AFG', 'Uzbek', 'F', 8.8),\n",
       " (2, 'Qandahar', 'AFG', 'Qandahar', 237500, 'AFG', 'Balochi', 'F', 0.9),\n",
       " (2, 'Qandahar', 'AFG', 'Qandahar', 237500, 'AFG', 'Dari', 'T', 32.1),\n",
       " (2, 'Qandahar', 'AFG', 'Qandahar', 237500, 'AFG', 'Pashto', 'T', 52.4),\n",
       " (2, 'Qandahar', 'AFG', 'Qandahar', 237500, 'AFG', 'Turkmenian', 'F', 1.9),\n",
       " (2, 'Qandahar', 'AFG', 'Qandahar', 237500, 'AFG', 'Uzbek', 'F', 8.8)]"
      ]
     },
     "execution_count": 13,
     "metadata": {},
     "output_type": "execute_result"
    }
   ],
   "source": [
    "query = \"SELECT * FROM  world.city LEFT JOIN world.countrylanguage ON city.CountryCode = countrylanguage.CountryCode LIMIT 10;\"\n",
    "cursor.execute(query)\n",
    "cursor.fetchall()"
   ]
  },
  {
   "cell_type": "markdown",
   "metadata": {},
   "source": [
    "# Query10: CREATE DATABASE"
   ]
  },
  {
   "cell_type": "code",
   "execution_count": 14,
   "metadata": {},
   "outputs": [
    {
     "data": {
      "text/plain": [
       "[]"
      ]
     },
     "execution_count": 14,
     "metadata": {},
     "output_type": "execute_result"
    }
   ],
   "source": [
    "query = \"CREATE DATABASE student\"\n",
    "cursor.execute(query)\n",
    "cursor.fetchall()"
   ]
  },
  {
   "cell_type": "code",
   "execution_count": 15,
   "metadata": {},
   "outputs": [],
   "source": [
    "mydb.commit()"
   ]
  },
  {
   "cell_type": "code",
   "execution_count": 16,
   "metadata": {},
   "outputs": [
    {
     "data": {
      "text/plain": [
       "[('information_schema',),\n",
       " ('mysql',),\n",
       " ('performance_schema',),\n",
       " ('sakila',),\n",
       " ('student',),\n",
       " ('sys',),\n",
       " ('world',)]"
      ]
     },
     "execution_count": 16,
     "metadata": {},
     "output_type": "execute_result"
    }
   ],
   "source": [
    "query = \"SHOW DATABASES\"\n",
    "cursor.execute(query)\n",
    "cursor.fetchall()"
   ]
  },
  {
   "cell_type": "markdown",
   "metadata": {},
   "source": [
    "# Query 11: CREATE TABLE"
   ]
  },
  {
   "cell_type": "code",
   "execution_count": 17,
   "metadata": {},
   "outputs": [
    {
     "data": {
      "text/plain": [
       "[]"
      ]
     },
     "execution_count": 17,
     "metadata": {},
     "output_type": "execute_result"
    }
   ],
   "source": [
    "query = \"CREATE TABLE student.name(stu_id INT NOT NULL,first_name VARCHAR(100) NOT NULL,last_name VARCHAR(40) NOT NULL)\"\n",
    "cursor.execute(query)\n",
    "cursor.fetchall()\n"
   ]
  },
  {
   "cell_type": "markdown",
   "metadata": {},
   "source": [
    "# QUERY 12 : SCHEMA CHECK"
   ]
  },
  {
   "cell_type": "code",
   "execution_count": 18,
   "metadata": {},
   "outputs": [
    {
     "data": {
      "text/plain": [
       "[('stu_id', b'int', 'NO', '', None, ''),\n",
       " ('first_name', b'varchar(100)', 'NO', '', None, ''),\n",
       " ('last_name', b'varchar(40)', 'NO', '', None, '')]"
      ]
     },
     "execution_count": 18,
     "metadata": {},
     "output_type": "execute_result"
    }
   ],
   "source": [
    "query = \"DESC student.name\"\n",
    "cursor.execute(query)\n",
    "cursor.fetchall()\n"
   ]
  },
  {
   "cell_type": "markdown",
   "metadata": {},
   "source": [
    "# Query13 : INSERT ROW"
   ]
  },
  {
   "cell_type": "code",
   "execution_count": 19,
   "metadata": {},
   "outputs": [
    {
     "data": {
      "text/plain": [
       "[]"
      ]
     },
     "execution_count": 19,
     "metadata": {},
     "output_type": "execute_result"
    }
   ],
   "source": [
    "query = \"INSERT INTO student.name VALUES(1,'Rahul','Mourya'),(2,'Sagareeka','Soni'),(3,'Meghna','Rawat')\"\n",
    "cursor.execute(query)\n",
    "cursor.fetchall()"
   ]
  },
  {
   "cell_type": "code",
   "execution_count": 20,
   "metadata": {},
   "outputs": [
    {
     "data": {
      "text/plain": [
       "[(1, 'Rahul', 'Mourya'), (2, 'Sagareeka', 'Soni'), (3, 'Meghna', 'Rawat')]"
      ]
     },
     "execution_count": 20,
     "metadata": {},
     "output_type": "execute_result"
    }
   ],
   "source": [
    "query = \"SELECT * FROM student.name\"\n",
    "cursor.execute(query)\n",
    "cursor.fetchall()"
   ]
  },
  {
   "cell_type": "markdown",
   "metadata": {},
   "source": [
    "# Query14 : UPDATE VALUE"
   ]
  },
  {
   "cell_type": "code",
   "execution_count": 21,
   "metadata": {},
   "outputs": [
    {
     "data": {
      "text/plain": [
       "[]"
      ]
     },
     "execution_count": 21,
     "metadata": {},
     "output_type": "execute_result"
    }
   ],
   "source": [
    "query = \"UPDATE  student.name SET last_name = 'Maurya' WHERE stu_id=1\"\n",
    "cursor.execute(query)\n",
    "cursor.fetchall()"
   ]
  },
  {
   "cell_type": "code",
   "execution_count": 22,
   "metadata": {},
   "outputs": [
    {
     "data": {
      "text/plain": [
       "[(1, 'Rahul', 'Maurya'), (2, 'Sagareeka', 'Soni'), (3, 'Meghna', 'Rawat')]"
      ]
     },
     "execution_count": 22,
     "metadata": {},
     "output_type": "execute_result"
    }
   ],
   "source": [
    "query = \"SELECT * FROM student.name\"\n",
    "cursor.execute(query)\n",
    "cursor.fetchall()"
   ]
  },
  {
   "cell_type": "markdown",
   "metadata": {},
   "source": [
    "# Query15 : DELETE ROW"
   ]
  },
  {
   "cell_type": "code",
   "execution_count": 23,
   "metadata": {},
   "outputs": [
    {
     "data": {
      "text/plain": [
       "[]"
      ]
     },
     "execution_count": 23,
     "metadata": {},
     "output_type": "execute_result"
    }
   ],
   "source": [
    "query = \"DELETE FROM student.name WHERE first_name = 'Rahul'\"\n",
    "cursor.execute(query)\n",
    "cursor.fetchall()"
   ]
  },
  {
   "cell_type": "code",
   "execution_count": 24,
   "metadata": {},
   "outputs": [
    {
     "data": {
      "text/plain": [
       "[(2, 'Sagareeka', 'Soni'), (3, 'Meghna', 'Rawat')]"
      ]
     },
     "execution_count": 24,
     "metadata": {},
     "output_type": "execute_result"
    }
   ],
   "source": [
    "query = \"SELECT * FROM student.name\"\n",
    "cursor.execute(query)\n",
    "cursor.fetchall()"
   ]
  },
  {
   "cell_type": "markdown",
   "metadata": {},
   "source": [
    "# Query16: ALTER TABLE"
   ]
  },
  {
   "cell_type": "code",
   "execution_count": 25,
   "metadata": {},
   "outputs": [
    {
     "data": {
      "text/plain": [
       "[]"
      ]
     },
     "execution_count": 25,
     "metadata": {},
     "output_type": "execute_result"
    }
   ],
   "source": [
    "query = \"ALTER TABLE student.name ADD email varchar(50) NOT NULL\"\n",
    "cursor.execute(query)\n",
    "cursor.fetchall()"
   ]
  },
  {
   "cell_type": "code",
   "execution_count": 26,
   "metadata": {},
   "outputs": [
    {
     "data": {
      "text/plain": [
       "[('stu_id', b'int', 'NO', '', None, ''),\n",
       " ('first_name', b'varchar(100)', 'NO', '', None, ''),\n",
       " ('last_name', b'varchar(40)', 'NO', '', None, ''),\n",
       " ('email', b'varchar(50)', 'NO', '', None, '')]"
      ]
     },
     "execution_count": 26,
     "metadata": {},
     "output_type": "execute_result"
    }
   ],
   "source": [
    "query = \"DESC student.name\"\n",
    "cursor.execute(query)\n",
    "cursor.fetchall()"
   ]
  },
  {
   "cell_type": "markdown",
   "metadata": {},
   "source": [
    "# QUERY17: SQL CONSTRAINTS"
   ]
  },
  {
   "cell_type": "code",
   "execution_count": 27,
   "metadata": {},
   "outputs": [
    {
     "data": {
      "text/plain": [
       "[]"
      ]
     },
     "execution_count": 27,
     "metadata": {},
     "output_type": "execute_result"
    }
   ],
   "source": [
    "# Primary key & Not Null\n",
    "query = \"CREATE TABLE student.marks(subject_id int NOT NULL PRIMARY KEY,subject_marks int NOT NULL)\"\n",
    "cursor.execute(query)\n",
    "cursor.fetchall()"
   ]
  },
  {
   "cell_type": "code",
   "execution_count": 28,
   "metadata": {},
   "outputs": [
    {
     "data": {
      "text/plain": [
       "[('subject_id', b'int', 'NO', 'PRI', None, ''),\n",
       " ('subject_marks', b'int', 'NO', '', None, '')]"
      ]
     },
     "execution_count": 28,
     "metadata": {},
     "output_type": "execute_result"
    }
   ],
   "source": [
    "query = \"DESC student.marks\"\n",
    "cursor.execute(query)\n",
    "cursor.fetchall()"
   ]
  },
  {
   "cell_type": "markdown",
   "metadata": {},
   "source": [
    "# Query18: CREATE VIEW"
   ]
  },
  {
   "cell_type": "code",
   "execution_count": 29,
   "metadata": {},
   "outputs": [
    {
     "data": {
      "text/plain": [
       "[]"
      ]
     },
     "execution_count": 29,
     "metadata": {},
     "output_type": "execute_result"
    }
   ],
   "source": [
    "query = \"CREATE VIEW world.city_view AS SELECT ID , NAME, CountryCode FROM  world.city WHERE CountryCode LIKE '%A';\"\n",
    "cursor.execute(query)\n",
    "cursor.fetchall()"
   ]
  },
  {
   "cell_type": "code",
   "execution_count": 30,
   "metadata": {},
   "outputs": [
    {
     "data": {
      "text/plain": [
       "[(35, 'Alger', 'DZA'),\n",
       " (36, 'Oran', 'DZA'),\n",
       " (37, 'Constantine', 'DZA'),\n",
       " (38, 'Annaba', 'DZA'),\n",
       " (39, 'Batna', 'DZA'),\n",
       " (40, 'SÃ©tif', 'DZA'),\n",
       " (41, 'Sidi Bel AbbÃ¨s', 'DZA'),\n",
       " (42, 'Skikda', 'DZA'),\n",
       " (43, 'Biskra', 'DZA'),\n",
       " (44, 'Blida (el-Boulaida)', 'DZA'),\n",
       " (45, 'BÃ©jaÃ¯a', 'DZA'),\n",
       " (46, 'Mostaganem', 'DZA'),\n",
       " (47, 'TÃ©bessa', 'DZA'),\n",
       " (48, 'Tlemcen (Tilimsen)', 'DZA'),\n",
       " (49, 'BÃ©char', 'DZA'),\n",
       " (50, 'Tiaret', 'DZA'),\n",
       " (51, 'Ech-Chleff (el-Asnam)', 'DZA'),\n",
       " (52, 'GhardaÃ¯a', 'DZA'),\n",
       " (61, 'South Hill', 'AIA'),\n",
       " (62, 'The Valley', 'AIA'),\n",
       " (204, 'Gaborone', 'BWA'),\n",
       " (205, 'Francistown', 'BWA'),\n",
       " (206, 'SÃ£o Paulo', 'BRA'),\n",
       " (207, 'Rio de Janeiro', 'BRA'),\n",
       " (208, 'Salvador', 'BRA'),\n",
       " (209, 'Belo Horizonte', 'BRA'),\n",
       " (210, 'Fortaleza', 'BRA'),\n",
       " (211, 'BrasÃ\\xadlia', 'BRA'),\n",
       " (212, 'Curitiba', 'BRA'),\n",
       " (213, 'Recife', 'BRA'),\n",
       " (214, 'Porto Alegre', 'BRA'),\n",
       " (215, 'Manaus', 'BRA'),\n",
       " (216, 'BelÃ©m', 'BRA'),\n",
       " (217, 'Guarulhos', 'BRA'),\n",
       " (218, 'GoiÃ¢nia', 'BRA'),\n",
       " (219, 'Campinas', 'BRA'),\n",
       " (220, 'SÃ£o GonÃ§alo', 'BRA'),\n",
       " (221, 'Nova IguaÃ§u', 'BRA'),\n",
       " (222, 'SÃ£o LuÃ\\xads', 'BRA'),\n",
       " (223, 'MaceiÃ³', 'BRA'),\n",
       " (224, 'Duque de Caxias', 'BRA'),\n",
       " (225, 'SÃ£o Bernardo do Campo', 'BRA'),\n",
       " (226, 'Teresina', 'BRA'),\n",
       " (227, 'Natal', 'BRA'),\n",
       " (228, 'Osasco', 'BRA'),\n",
       " (229, 'Campo Grande', 'BRA'),\n",
       " (230, 'Santo AndrÃ©', 'BRA'),\n",
       " (231, 'JoÃ£o Pessoa', 'BRA'),\n",
       " (232, 'JaboatÃ£o dos Guararapes', 'BRA'),\n",
       " (233, 'Contagem', 'BRA'),\n",
       " (234, 'SÃ£o JosÃ© dos Campos', 'BRA'),\n",
       " (235, 'UberlÃ¢ndia', 'BRA'),\n",
       " (236, 'Feira de Santana', 'BRA'),\n",
       " (237, 'RibeirÃ£o Preto', 'BRA'),\n",
       " (238, 'Sorocaba', 'BRA'),\n",
       " (239, 'NiterÃ³i', 'BRA'),\n",
       " (240, 'CuiabÃ¡', 'BRA'),\n",
       " (241, 'Juiz de Fora', 'BRA'),\n",
       " (242, 'Aracaju', 'BRA'),\n",
       " (243, 'SÃ£o JoÃ£o de Meriti', 'BRA'),\n",
       " (244, 'Londrina', 'BRA'),\n",
       " (245, 'Joinville', 'BRA'),\n",
       " (246, 'Belford Roxo', 'BRA'),\n",
       " (247, 'Santos', 'BRA'),\n",
       " (248, 'Ananindeua', 'BRA'),\n",
       " (249, 'Campos dos Goytacazes', 'BRA'),\n",
       " (250, 'MauÃ¡', 'BRA'),\n",
       " (251, 'CarapicuÃ\\xadba', 'BRA'),\n",
       " (252, 'Olinda', 'BRA'),\n",
       " (253, 'Campina Grande', 'BRA'),\n",
       " (254, 'SÃ£o JosÃ© do Rio Preto', 'BRA'),\n",
       " (255, 'Caxias do Sul', 'BRA'),\n",
       " (256, 'Moji das Cruzes', 'BRA'),\n",
       " (257, 'Diadema', 'BRA'),\n",
       " (258, 'Aparecida de GoiÃ¢nia', 'BRA'),\n",
       " (259, 'Piracicaba', 'BRA'),\n",
       " (260, 'Cariacica', 'BRA'),\n",
       " (261, 'Vila Velha', 'BRA'),\n",
       " (262, 'Pelotas', 'BRA'),\n",
       " (263, 'Bauru', 'BRA'),\n",
       " (264, 'Porto Velho', 'BRA'),\n",
       " (265, 'Serra', 'BRA'),\n",
       " (266, 'Betim', 'BRA'),\n",
       " (267, 'JundÃ\\xadaÃ\\xad', 'BRA'),\n",
       " (268, 'Canoas', 'BRA'),\n",
       " (269, 'Franca', 'BRA'),\n",
       " (270, 'SÃ£o Vicente', 'BRA'),\n",
       " (271, 'MaringÃ¡', 'BRA'),\n",
       " (272, 'Montes Claros', 'BRA'),\n",
       " (273, 'AnÃ¡polis', 'BRA'),\n",
       " (274, 'FlorianÃ³polis', 'BRA'),\n",
       " (275, 'PetrÃ³polis', 'BRA'),\n",
       " (276, 'Itaquaquecetuba', 'BRA'),\n",
       " (277, 'VitÃ³ria', 'BRA'),\n",
       " (278, 'Ponta Grossa', 'BRA'),\n",
       " (279, 'Rio Branco', 'BRA'),\n",
       " (280, 'Foz do IguaÃ§u', 'BRA'),\n",
       " (281, 'MacapÃ¡', 'BRA'),\n",
       " (282, 'IlhÃ©us', 'BRA'),\n",
       " (283, 'VitÃ³ria da Conquista', 'BRA'),\n",
       " (284, 'Uberaba', 'BRA'),\n",
       " (285, 'Paulista', 'BRA'),\n",
       " (286, 'Limeira', 'BRA'),\n",
       " (287, 'Blumenau', 'BRA'),\n",
       " (288, 'Caruaru', 'BRA'),\n",
       " (289, 'SantarÃ©m', 'BRA'),\n",
       " (290, 'Volta Redonda', 'BRA'),\n",
       " (291, 'Novo Hamburgo', 'BRA'),\n",
       " (292, 'Caucaia', 'BRA'),\n",
       " (293, 'Santa Maria', 'BRA'),\n",
       " (294, 'Cascavel', 'BRA'),\n",
       " (295, 'GuarujÃ¡', 'BRA'),\n",
       " (296, 'RibeirÃ£o das Neves', 'BRA'),\n",
       " (297, 'Governador Valadares', 'BRA'),\n",
       " (298, 'TaubatÃ©', 'BRA'),\n",
       " (299, 'Imperatriz', 'BRA'),\n",
       " (300, 'GravataÃ\\xad', 'BRA'),\n",
       " (301, 'Embu', 'BRA'),\n",
       " (302, 'MossorÃ³', 'BRA'),\n",
       " (303, 'VÃ¡rzea Grande', 'BRA'),\n",
       " (304, 'Petrolina', 'BRA'),\n",
       " (305, 'Barueri', 'BRA'),\n",
       " (306, 'ViamÃ£o', 'BRA'),\n",
       " (307, 'Ipatinga', 'BRA'),\n",
       " (308, 'Juazeiro', 'BRA'),\n",
       " (309, 'Juazeiro do Norte', 'BRA'),\n",
       " (310, 'TaboÃ£o da Serra', 'BRA'),\n",
       " (311, 'SÃ£o JosÃ© dos Pinhais', 'BRA'),\n",
       " (312, 'MagÃ©', 'BRA'),\n",
       " (313, 'Suzano', 'BRA'),\n",
       " (314, 'SÃ£o Leopoldo', 'BRA'),\n",
       " (315, 'MarÃ\\xadlia', 'BRA'),\n",
       " (316, 'SÃ£o Carlos', 'BRA'),\n",
       " (317, 'SumarÃ©', 'BRA'),\n",
       " (318, 'Presidente Prudente', 'BRA'),\n",
       " (319, 'DivinÃ³polis', 'BRA'),\n",
       " (320, 'Sete Lagoas', 'BRA'),\n",
       " (321, 'Rio Grande', 'BRA'),\n",
       " (322, 'Itabuna', 'BRA'),\n",
       " (323, 'JequiÃ©', 'BRA'),\n",
       " (324, 'Arapiraca', 'BRA'),\n",
       " (325, 'Colombo', 'BRA'),\n",
       " (326, 'Americana', 'BRA'),\n",
       " (327, 'Alvorada', 'BRA'),\n",
       " (328, 'Araraquara', 'BRA'),\n",
       " (329, 'ItaboraÃ\\xad', 'BRA'),\n",
       " (330, 'Santa BÃ¡rbara dÂ´Oeste', 'BRA'),\n",
       " (331, 'Nova Friburgo', 'BRA'),\n",
       " (332, 'JacareÃ\\xad', 'BRA'),\n",
       " (333, 'AraÃ§atuba', 'BRA'),\n",
       " (334, 'Barra Mansa', 'BRA'),\n",
       " (335, 'Praia Grande', 'BRA'),\n",
       " (336, 'MarabÃ¡', 'BRA'),\n",
       " (337, 'CriciÃºma', 'BRA'),\n",
       " (338, 'Boa Vista', 'BRA'),\n",
       " (339, 'Passo Fundo', 'BRA'),\n",
       " (340, 'Dourados', 'BRA'),\n",
       " (341, 'Santa Luzia', 'BRA'),\n",
       " (342, 'Rio Claro', 'BRA'),\n",
       " (343, 'MaracanaÃº', 'BRA'),\n",
       " (344, 'Guarapuava', 'BRA'),\n",
       " (345, 'RondonÃ³polis', 'BRA'),\n",
       " (346, 'SÃ£o JosÃ©', 'BRA'),\n",
       " (347, 'Cachoeiro de Itapemirim', 'BRA'),\n",
       " (348, 'NilÃ³polis', 'BRA'),\n",
       " (349, 'Itapevi', 'BRA'),\n",
       " (350, 'Cabo de Santo Agostinho', 'BRA'),\n",
       " (351, 'CamaÃ§ari', 'BRA'),\n",
       " (352, 'Sobral', 'BRA'),\n",
       " (353, 'ItajaÃ\\xad', 'BRA'),\n",
       " (354, 'ChapecÃ³', 'BRA'),\n",
       " (355, 'Cotia', 'BRA'),\n",
       " (356, 'Lages', 'BRA'),\n",
       " (357, 'Ferraz de Vasconcelos', 'BRA'),\n",
       " (358, 'Indaiatuba', 'BRA'),\n",
       " (359, 'HortolÃ¢ndia', 'BRA'),\n",
       " (360, 'Caxias', 'BRA'),\n",
       " (361, 'SÃ£o Caetano do Sul', 'BRA'),\n",
       " (362, 'Itu', 'BRA'),\n",
       " (363, 'Nossa Senhora do Socorro', 'BRA'),\n",
       " (364, 'ParnaÃ\\xadba', 'BRA'),\n",
       " (365, 'PoÃ§os de Caldas', 'BRA'),\n",
       " (366, 'TeresÃ³polis', 'BRA'),\n",
       " (367, 'Barreiras', 'BRA'),\n",
       " (368, 'Castanhal', 'BRA'),\n",
       " (369, 'Alagoinhas', 'BRA'),\n",
       " (370, 'Itapecerica da Serra', 'BRA'),\n",
       " (371, 'Uruguaiana', 'BRA'),\n",
       " (372, 'ParanaguÃ¡', 'BRA'),\n",
       " (373, 'IbiritÃ©', 'BRA'),\n",
       " (374, 'Timon', 'BRA'),\n",
       " (375, 'LuziÃ¢nia', 'BRA'),\n",
       " (376, 'MacaÃ©', 'BRA'),\n",
       " (377, 'TeÃ³filo Otoni', 'BRA'),\n",
       " (378, 'Moji-GuaÃ§u', 'BRA'),\n",
       " (379, 'Palmas', 'BRA'),\n",
       " (380, 'Pindamonhangaba', 'BRA'),\n",
       " (381, 'Francisco Morato', 'BRA'),\n",
       " (382, 'BagÃ©', 'BRA'),\n",
       " (383, 'Sapucaia do Sul', 'BRA'),\n",
       " (384, 'Cabo Frio', 'BRA'),\n",
       " (385, 'Itapetininga', 'BRA'),\n",
       " (386, 'Patos de Minas', 'BRA'),\n",
       " (387, 'Camaragibe', 'BRA'),\n",
       " (388, 'BraganÃ§a Paulista', 'BRA'),\n",
       " (389, 'Queimados', 'BRA'),\n",
       " (390, 'AraguaÃ\\xadna', 'BRA'),\n",
       " (391, 'Garanhuns', 'BRA'),\n",
       " (392, 'VitÃ³ria de Santo AntÃ£o', 'BRA'),\n",
       " (393, 'Santa Rita', 'BRA'),\n",
       " (394, 'Barbacena', 'BRA'),\n",
       " (395, 'Abaetetuba', 'BRA'),\n",
       " (396, 'JaÃº', 'BRA'),\n",
       " (397, 'Lauro de Freitas', 'BRA'),\n",
       " (398, 'Franco da Rocha', 'BRA'),\n",
       " (399, 'Teixeira de Freitas', 'BRA'),\n",
       " (400, 'Varginha', 'BRA'),\n",
       " (401, 'RibeirÃ£o Pires', 'BRA'),\n",
       " (402, 'SabarÃ¡', 'BRA'),\n",
       " (403, 'Catanduva', 'BRA'),\n",
       " (404, 'Rio Verde', 'BRA'),\n",
       " (405, 'Botucatu', 'BRA'),\n",
       " (406, 'Colatina', 'BRA'),\n",
       " (407, 'Santa Cruz do Sul', 'BRA'),\n",
       " (408, 'Linhares', 'BRA'),\n",
       " (409, 'Apucarana', 'BRA'),\n",
       " (410, 'Barretos', 'BRA'),\n",
       " (411, 'GuaratinguetÃ¡', 'BRA'),\n",
       " (412, 'Cachoeirinha', 'BRA'),\n",
       " (413, 'CodÃ³', 'BRA'),\n",
       " (414, 'JaraguÃ¡ do Sul', 'BRA'),\n",
       " (415, 'CubatÃ£o', 'BRA'),\n",
       " (416, 'Itabira', 'BRA'),\n",
       " (417, 'Itaituba', 'BRA'),\n",
       " (418, 'Araras', 'BRA'),\n",
       " (419, 'Resende', 'BRA'),\n",
       " (420, 'Atibaia', 'BRA'),\n",
       " (421, 'Pouso Alegre', 'BRA'),\n",
       " (422, 'Toledo', 'BRA'),\n",
       " (423, 'Crato', 'BRA'),\n",
       " (424, 'Passos', 'BRA'),\n",
       " (425, 'Araguari', 'BRA'),\n",
       " (426, 'SÃ£o JosÃ© de Ribamar', 'BRA'),\n",
       " (427, 'Pinhais', 'BRA'),\n",
       " (428, 'SertÃ£ozinho', 'BRA'),\n",
       " (429, 'Conselheiro Lafaiete', 'BRA'),\n",
       " (430, 'Paulo Afonso', 'BRA'),\n",
       " (431, 'Angra dos Reis', 'BRA'),\n",
       " (432, 'EunÃ¡polis', 'BRA'),\n",
       " (433, 'Salto', 'BRA'),\n",
       " (434, 'Ourinhos', 'BRA'),\n",
       " (435, 'Parnamirim', 'BRA'),\n",
       " (436, 'Jacobina', 'BRA'),\n",
       " (437, 'Coronel Fabriciano', 'BRA'),\n",
       " (438, 'Birigui', 'BRA'),\n",
       " (439, 'TatuÃ\\xad', 'BRA'),\n",
       " (440, 'Ji-ParanÃ¡', 'BRA'),\n",
       " (441, 'Bacabal', 'BRA'),\n",
       " (442, 'CametÃ¡', 'BRA'),\n",
       " (443, 'GuaÃ\\xadba', 'BRA'),\n",
       " (444, 'SÃ£o LourenÃ§o da Mata', 'BRA'),\n",
       " (445, 'Santana do Livramento', 'BRA'),\n",
       " (446, 'Votorantim', 'BRA'),\n",
       " (447, 'Campo Largo', 'BRA'),\n",
       " (448, 'Patos', 'BRA'),\n",
       " (449, 'Ituiutaba', 'BRA'),\n",
       " (450, 'CorumbÃ¡', 'BRA'),\n",
       " (451, 'PalhoÃ§a', 'BRA'),\n",
       " (452, 'Barra do PiraÃ\\xad', 'BRA'),\n",
       " (453, 'Bento GonÃ§alves', 'BRA'),\n",
       " (454, 'PoÃ¡', 'BRA'),\n",
       " (455, 'Ã\\x81guas Lindas de GoiÃ¡s', 'BRA'),\n",
       " (549, 'Ouagadougou', 'BFA'),\n",
       " (550, 'Bobo-Dioulasso', 'BFA'),\n",
       " (551, 'Koudougou', 'BFA'),\n",
       " (586, 'Roseau', 'DMA'),\n",
       " (910, 'Accra', 'GHA'),\n",
       " (911, 'Kumasi', 'GHA'),\n",
       " (912, 'Tamale', 'GHA'),\n",
       " (913, 'Tema', 'GHA'),\n",
       " (914, 'Sekondi-Takoradi', 'GHA'),\n",
       " (1464, 'Roma', 'ITA'),\n",
       " (1465, 'Milano', 'ITA'),\n",
       " (1466, 'Napoli', 'ITA'),\n",
       " (1467, 'Torino', 'ITA'),\n",
       " (1468, 'Palermo', 'ITA'),\n",
       " (1469, 'Genova', 'ITA'),\n",
       " (1470, 'Bologna', 'ITA'),\n",
       " (1471, 'Firenze', 'ITA'),\n",
       " (1472, 'Catania', 'ITA'),\n",
       " (1473, 'Bari', 'ITA'),\n",
       " (1474, 'Venezia', 'ITA'),\n",
       " (1475, 'Messina', 'ITA'),\n",
       " (1476, 'Verona', 'ITA'),\n",
       " (1477, 'Trieste', 'ITA'),\n",
       " (1478, 'Padova', 'ITA'),\n",
       " (1479, 'Taranto', 'ITA'),\n",
       " (1480, 'Brescia', 'ITA'),\n",
       " (1481, 'Reggio di Calabria', 'ITA'),\n",
       " (1482, 'Modena', 'ITA'),\n",
       " (1483, 'Prato', 'ITA'),\n",
       " (1484, 'Parma', 'ITA'),\n",
       " (1485, 'Cagliari', 'ITA'),\n",
       " (1486, 'Livorno', 'ITA'),\n",
       " (1487, 'Perugia', 'ITA'),\n",
       " (1488, 'Foggia', 'ITA'),\n",
       " (1489, 'Reggio nellÂ´ Emilia', 'ITA'),\n",
       " (1490, 'Salerno', 'ITA'),\n",
       " (1491, 'Ravenna', 'ITA'),\n",
       " (1492, 'Ferrara', 'ITA'),\n",
       " (1493, 'Rimini', 'ITA'),\n",
       " (1494, 'Syrakusa', 'ITA'),\n",
       " (1495, 'Sassari', 'ITA'),\n",
       " (1496, 'Monza', 'ITA'),\n",
       " (1497, 'Bergamo', 'ITA'),\n",
       " (1498, 'Pescara', 'ITA'),\n",
       " (1499, 'Latina', 'ITA'),\n",
       " (1500, 'Vicenza', 'ITA'),\n",
       " (1501, 'Terni', 'ITA'),\n",
       " (1502, 'ForlÃ¬', 'ITA'),\n",
       " (1503, 'Trento', 'ITA'),\n",
       " (1504, 'Novara', 'ITA'),\n",
       " (1505, 'Piacenza', 'ITA'),\n",
       " (1506, 'Ancona', 'ITA'),\n",
       " (1507, 'Lecce', 'ITA'),\n",
       " (1508, 'Bolzano', 'ITA'),\n",
       " (1509, 'Catanzaro', 'ITA'),\n",
       " (1510, 'La Spezia', 'ITA'),\n",
       " (1511, 'Udine', 'ITA'),\n",
       " (1512, 'Torre del Greco', 'ITA'),\n",
       " (1513, 'Andria', 'ITA'),\n",
       " (1514, 'Brindisi', 'ITA'),\n",
       " (1515, 'Giugliano in Campania', 'ITA'),\n",
       " (1516, 'Pisa', 'ITA'),\n",
       " (1517, 'Barletta', 'ITA'),\n",
       " (1518, 'Arezzo', 'ITA'),\n",
       " (1519, 'Alessandria', 'ITA'),\n",
       " (1520, 'Cesena', 'ITA'),\n",
       " (1521, 'Pesaro', 'ITA'),\n",
       " (2434, 'Riga', 'LVA'),\n",
       " (2435, 'Daugavpils', 'LVA'),\n",
       " (2436, 'Liepaja', 'LVA'),\n",
       " (2690, 'Chisinau', 'MDA'),\n",
       " (2691, 'Tiraspol', 'MDA'),\n",
       " (2692, 'Balti', 'MDA'),\n",
       " (2693, 'Bender (TÃ®ghina)', 'MDA'),\n",
       " (2741, 'Lagos', 'NGA'),\n",
       " (2742, 'Ibadan', 'NGA'),\n",
       " (2743, 'Ogbomosho', 'NGA'),\n",
       " (2744, 'Kano', 'NGA'),\n",
       " (2745, 'Oshogbo', 'NGA'),\n",
       " (2746, 'Ilorin', 'NGA'),\n",
       " (2747, 'Abeokuta', 'NGA'),\n",
       " (2748, 'Port Harcourt', 'NGA'),\n",
       " (2749, 'Zaria', 'NGA'),\n",
       " (2750, 'Ilesha', 'NGA'),\n",
       " (2751, 'Onitsha', 'NGA'),\n",
       " (2752, 'Iwo', 'NGA'),\n",
       " (2753, 'Ado-Ekiti', 'NGA'),\n",
       " (2754, 'Abuja', 'NGA'),\n",
       " (2755, 'Kaduna', 'NGA'),\n",
       " (2756, 'Mushin', 'NGA'),\n",
       " (2757, 'Maiduguri', 'NGA'),\n",
       " (2758, 'Enugu', 'NGA'),\n",
       " (2759, 'Ede', 'NGA'),\n",
       " (2760, 'Aba', 'NGA'),\n",
       " (2761, 'Ife', 'NGA'),\n",
       " (2762, 'Ila', 'NGA'),\n",
       " (2763, 'Oyo', 'NGA'),\n",
       " (2764, 'Ikerre', 'NGA'),\n",
       " (2765, 'Benin City', 'NGA'),\n",
       " (2766, 'Iseyin', 'NGA'),\n",
       " (2767, 'Katsina', 'NGA'),\n",
       " (2768, 'Jos', 'NGA'),\n",
       " (2769, 'Sokoto', 'NGA'),\n",
       " (2770, 'Ilobu', 'NGA'),\n",
       " (2771, 'Offa', 'NGA'),\n",
       " (2772, 'Ikorodu', 'NGA'),\n",
       " (2773, 'Ilawe-Ekiti', 'NGA'),\n",
       " (2774, 'Owo', 'NGA'),\n",
       " (2775, 'Ikirun', 'NGA'),\n",
       " (2776, 'Shaki', 'NGA'),\n",
       " (2777, 'Calabar', 'NGA'),\n",
       " (2778, 'Ondo', 'NGA'),\n",
       " (2779, 'Akure', 'NGA'),\n",
       " (2780, 'Gusau', 'NGA'),\n",
       " (2781, 'Ijebu-Ode', 'NGA'),\n",
       " (2782, 'Effon-Alaiye', 'NGA'),\n",
       " (2783, 'Kumo', 'NGA'),\n",
       " (2784, 'Shomolu', 'NGA'),\n",
       " (2785, 'Oka-Akoko', 'NGA'),\n",
       " (2786, 'Ikare', 'NGA'),\n",
       " (2787, 'Sapele', 'NGA'),\n",
       " (2788, 'Deba Habe', 'NGA'),\n",
       " (2789, 'Minna', 'NGA'),\n",
       " (2790, 'Warri', 'NGA'),\n",
       " (2791, 'Bida', 'NGA'),\n",
       " (2792, 'Ikire', 'NGA'),\n",
       " (2793, 'Makurdi', 'NGA'),\n",
       " (2794, 'Lafia', 'NGA'),\n",
       " (2795, 'Inisa', 'NGA'),\n",
       " (2796, 'Shagamu', 'NGA'),\n",
       " (2797, 'Awka', 'NGA'),\n",
       " (2798, 'Gombe', 'NGA'),\n",
       " (2799, 'Igboho', 'NGA'),\n",
       " (2800, 'Ejigbo', 'NGA'),\n",
       " (2801, 'Agege', 'NGA'),\n",
       " (2802, 'Ise-Ekiti', 'NGA'),\n",
       " (2803, 'Ugep', 'NGA'),\n",
       " (2804, 'Epe', 'NGA'),\n",
       " (2974, 'Paris', 'FRA'),\n",
       " (2975, 'Marseille', 'FRA'),\n",
       " (2976, 'Lyon', 'FRA'),\n",
       " (2977, 'Toulouse', 'FRA'),\n",
       " (2978, 'Nice', 'FRA'),\n",
       " (2979, 'Nantes', 'FRA'),\n",
       " (2980, 'Strasbourg', 'FRA'),\n",
       " (2981, 'Montpellier', 'FRA'),\n",
       " (2982, 'Bordeaux', 'FRA'),\n",
       " (2983, 'Rennes', 'FRA'),\n",
       " (2984, 'Le Havre', 'FRA'),\n",
       " (2985, 'Reims', 'FRA'),\n",
       " (2986, 'Lille', 'FRA'),\n",
       " (2987, 'St-Ã‰tienne', 'FRA'),\n",
       " (2988, 'Toulon', 'FRA'),\n",
       " (2989, 'Grenoble', 'FRA'),\n",
       " (2990, 'Angers', 'FRA'),\n",
       " (2991, 'Dijon', 'FRA'),\n",
       " (2992, 'Brest', 'FRA'),\n",
       " (2993, 'Le Mans', 'FRA'),\n",
       " (2994, 'Clermont-Ferrand', 'FRA'),\n",
       " (2995, 'Amiens', 'FRA'),\n",
       " (2996, 'Aix-en-Provence', 'FRA'),\n",
       " (2997, 'Limoges', 'FRA'),\n",
       " (2998, 'NÃ®mes', 'FRA'),\n",
       " (2999, 'Tours', 'FRA'),\n",
       " (3000, 'Villeurbanne', 'FRA'),\n",
       " (3001, 'Metz', 'FRA'),\n",
       " (3002, 'BesanÃ§on', 'FRA'),\n",
       " (3003, 'Caen', 'FRA'),\n",
       " (3004, 'OrlÃ©ans', 'FRA'),\n",
       " (3005, 'Mulhouse', 'FRA'),\n",
       " (3006, 'Rouen', 'FRA'),\n",
       " (3007, 'Boulogne-Billancourt', 'FRA'),\n",
       " (3008, 'Perpignan', 'FRA'),\n",
       " (3009, 'Nancy', 'FRA'),\n",
       " (3010, 'Roubaix', 'FRA'),\n",
       " (3011, 'Argenteuil', 'FRA'),\n",
       " (3012, 'Tourcoing', 'FRA'),\n",
       " (3013, 'Montreuil', 'FRA'),\n",
       " (3047, 'Kigali', 'RWA'),\n",
       " (3064, 'Basseterre', 'KNA'),\n",
       " (3065, 'Castries', 'LCA'),\n",
       " (3217, 'Colombo', 'LKA'),\n",
       " (3218, 'Dehiwala', 'LKA'),\n",
       " (3219, 'Moratuwa', 'LKA'),\n",
       " (3220, 'Jaffna', 'LKA'),\n",
       " (3221, 'Kandy', 'LKA'),\n",
       " (3222, 'Sri Jayawardenepura Kotte', 'LKA'),\n",
       " (3223, 'Negombo', 'LKA'),\n",
       " (3305, 'Dar es Salaam', 'TZA'),\n",
       " (3306, 'Dodoma', 'TZA'),\n",
       " (3307, 'Mwanza', 'TZA'),\n",
       " (3308, 'Zanzibar', 'TZA'),\n",
       " (3309, 'Tanga', 'TZA'),\n",
       " (3310, 'Mbeya', 'TZA'),\n",
       " (3311, 'Morogoro', 'TZA'),\n",
       " (3312, 'Arusha', 'TZA'),\n",
       " (3313, 'Moshi', 'TZA'),\n",
       " (3314, 'Tabora', 'TZA'),\n",
       " (3320, 'Bangkok', 'THA'),\n",
       " (3321, 'Nonthaburi', 'THA'),\n",
       " (3322, 'Nakhon Ratchasima', 'THA'),\n",
       " (3323, 'Chiang Mai', 'THA'),\n",
       " (3324, 'Udon Thani', 'THA'),\n",
       " (3325, 'Hat Yai', 'THA'),\n",
       " (3326, 'Khon Kaen', 'THA'),\n",
       " (3327, 'Pak Kret', 'THA'),\n",
       " (3328, 'Nakhon Sawan', 'THA'),\n",
       " (3329, 'Ubon Ratchathani', 'THA'),\n",
       " (3330, 'Songkhla', 'THA'),\n",
       " (3331, 'Nakhon Pathom', 'THA'),\n",
       " (3423, 'Cockburn Town', 'TCA'),\n",
       " (3425, 'Kampala', 'UGA'),\n",
       " (3793, 'New York', 'USA'),\n",
       " (3794, 'Los Angeles', 'USA'),\n",
       " (3795, 'Chicago', 'USA'),\n",
       " (3796, 'Houston', 'USA'),\n",
       " (3797, 'Philadelphia', 'USA'),\n",
       " (3798, 'Phoenix', 'USA'),\n",
       " (3799, 'San Diego', 'USA'),\n",
       " (3800, 'Dallas', 'USA'),\n",
       " (3801, 'San Antonio', 'USA'),\n",
       " (3802, 'Detroit', 'USA'),\n",
       " (3803, 'San Jose', 'USA'),\n",
       " (3804, 'Indianapolis', 'USA'),\n",
       " (3805, 'San Francisco', 'USA'),\n",
       " (3806, 'Jacksonville', 'USA'),\n",
       " (3807, 'Columbus', 'USA'),\n",
       " (3808, 'Austin', 'USA'),\n",
       " (3809, 'Baltimore', 'USA'),\n",
       " (3810, 'Memphis', 'USA'),\n",
       " (3811, 'Milwaukee', 'USA'),\n",
       " (3812, 'Boston', 'USA'),\n",
       " (3813, 'Washington', 'USA'),\n",
       " (3814, 'Nashville-Davidson', 'USA'),\n",
       " (3815, 'El Paso', 'USA'),\n",
       " (3816, 'Seattle', 'USA'),\n",
       " (3817, 'Denver', 'USA'),\n",
       " (3818, 'Charlotte', 'USA'),\n",
       " (3819, 'Fort Worth', 'USA'),\n",
       " (3820, 'Portland', 'USA'),\n",
       " (3821, 'Oklahoma City', 'USA'),\n",
       " (3822, 'Tucson', 'USA'),\n",
       " (3823, 'New Orleans', 'USA'),\n",
       " (3824, 'Las Vegas', 'USA'),\n",
       " (3825, 'Cleveland', 'USA'),\n",
       " (3826, 'Long Beach', 'USA'),\n",
       " (3827, 'Albuquerque', 'USA'),\n",
       " (3828, 'Kansas City', 'USA'),\n",
       " (3829, 'Fresno', 'USA'),\n",
       " (3830, 'Virginia Beach', 'USA'),\n",
       " (3831, 'Atlanta', 'USA'),\n",
       " (3832, 'Sacramento', 'USA'),\n",
       " (3833, 'Oakland', 'USA'),\n",
       " (3834, 'Mesa', 'USA'),\n",
       " (3835, 'Tulsa', 'USA'),\n",
       " (3836, 'Omaha', 'USA'),\n",
       " (3837, 'Minneapolis', 'USA'),\n",
       " (3838, 'Honolulu', 'USA'),\n",
       " (3839, 'Miami', 'USA'),\n",
       " (3840, 'Colorado Springs', 'USA'),\n",
       " (3841, 'Saint Louis', 'USA'),\n",
       " (3842, 'Wichita', 'USA'),\n",
       " (3843, 'Santa Ana', 'USA'),\n",
       " (3844, 'Pittsburgh', 'USA'),\n",
       " (3845, 'Arlington', 'USA'),\n",
       " (3846, 'Cincinnati', 'USA'),\n",
       " (3847, 'Anaheim', 'USA'),\n",
       " (3848, 'Toledo', 'USA'),\n",
       " (3849, 'Tampa', 'USA'),\n",
       " (3850, 'Buffalo', 'USA'),\n",
       " (3851, 'Saint Paul', 'USA'),\n",
       " (3852, 'Corpus Christi', 'USA'),\n",
       " (3853, 'Aurora', 'USA'),\n",
       " (3854, 'Raleigh', 'USA'),\n",
       " (3855, 'Newark', 'USA'),\n",
       " (3856, 'Lexington-Fayette', 'USA'),\n",
       " (3857, 'Anchorage', 'USA'),\n",
       " (3858, 'Louisville', 'USA'),\n",
       " (3859, 'Riverside', 'USA'),\n",
       " (3860, 'Saint Petersburg', 'USA'),\n",
       " (3861, 'Bakersfield', 'USA'),\n",
       " (3862, 'Stockton', 'USA'),\n",
       " (3863, 'Birmingham', 'USA'),\n",
       " (3864, 'Jersey City', 'USA'),\n",
       " (3865, 'Norfolk', 'USA'),\n",
       " (3866, 'Baton Rouge', 'USA'),\n",
       " (3867, 'Hialeah', 'USA'),\n",
       " (3868, 'Lincoln', 'USA'),\n",
       " (3869, 'Greensboro', 'USA'),\n",
       " (3870, 'Plano', 'USA'),\n",
       " (3871, 'Rochester', 'USA'),\n",
       " (3872, 'Glendale', 'USA'),\n",
       " (3873, 'Akron', 'USA'),\n",
       " (3874, 'Garland', 'USA'),\n",
       " (3875, 'Madison', 'USA'),\n",
       " (3876, 'Fort Wayne', 'USA'),\n",
       " (3877, 'Fremont', 'USA'),\n",
       " (3878, 'Scottsdale', 'USA'),\n",
       " (3879, 'Montgomery', 'USA'),\n",
       " (3880, 'Shreveport', 'USA'),\n",
       " (3881, 'Augusta-Richmond County', 'USA'),\n",
       " (3882, 'Lubbock', 'USA'),\n",
       " (3883, 'Chesapeake', 'USA'),\n",
       " (3884, 'Mobile', 'USA'),\n",
       " (3885, 'Des Moines', 'USA'),\n",
       " (3886, 'Grand Rapids', 'USA'),\n",
       " (3887, 'Richmond', 'USA'),\n",
       " (3888, 'Yonkers', 'USA'),\n",
       " (3889, 'Spokane', 'USA'),\n",
       " (3890, 'Glendale', 'USA'),\n",
       " (3891, 'Tacoma', 'USA'),\n",
       " (3892, 'Irving', 'USA'),\n",
       " (3893, 'Huntington Beach', 'USA'),\n",
       " (3894, 'Modesto', 'USA'),\n",
       " (3895, 'Durham', 'USA'),\n",
       " (3896, 'Columbus', 'USA'),\n",
       " (3897, 'Orlando', 'USA'),\n",
       " (3898, 'Boise City', 'USA'),\n",
       " (3899, 'Winston-Salem', 'USA'),\n",
       " (3900, 'San Bernardino', 'USA'),\n",
       " (3901, 'Jackson', 'USA'),\n",
       " (3902, 'Little Rock', 'USA'),\n",
       " (3903, 'Salt Lake City', 'USA'),\n",
       " (3904, 'Reno', 'USA'),\n",
       " (3905, 'Newport News', 'USA'),\n",
       " (3906, 'Chandler', 'USA'),\n",
       " (3907, 'Laredo', 'USA'),\n",
       " (3908, 'Henderson', 'USA'),\n",
       " (3909, 'Arlington', 'USA'),\n",
       " (3910, 'Knoxville', 'USA'),\n",
       " (3911, 'Amarillo', 'USA'),\n",
       " (3912, 'Providence', 'USA'),\n",
       " (3913, 'Chula Vista', 'USA'),\n",
       " (3914, 'Worcester', 'USA'),\n",
       " (3915, 'Oxnard', 'USA'),\n",
       " (3916, 'Dayton', 'USA'),\n",
       " (3917, 'Garden Grove', 'USA'),\n",
       " (3918, 'Oceanside', 'USA'),\n",
       " (3919, 'Tempe', 'USA'),\n",
       " (3920, 'Huntsville', 'USA'),\n",
       " (3921, 'Ontario', 'USA'),\n",
       " (3922, 'Chattanooga', 'USA'),\n",
       " (3923, 'Fort Lauderdale', 'USA'),\n",
       " (3924, 'Springfield', 'USA'),\n",
       " (3925, 'Springfield', 'USA'),\n",
       " (3926, 'Santa Clarita', 'USA'),\n",
       " (3927, 'Salinas', 'USA'),\n",
       " (3928, 'Tallahassee', 'USA'),\n",
       " (3929, 'Rockford', 'USA'),\n",
       " (3930, 'Pomona', 'USA'),\n",
       " (3931, 'Metairie', 'USA'),\n",
       " (3932, 'Paterson', 'USA'),\n",
       " (3933, 'Overland Park', 'USA'),\n",
       " (3934, 'Santa Rosa', 'USA'),\n",
       " (3935, 'Syracuse', 'USA'),\n",
       " (3936, 'Kansas City', 'USA'),\n",
       " (3937, 'Hampton', 'USA'),\n",
       " (3938, 'Lakewood', 'USA'),\n",
       " (3939, 'Vancouver', 'USA'),\n",
       " (3940, 'Irvine', 'USA'),\n",
       " (3941, 'Aurora', 'USA'),\n",
       " (3942, 'Moreno Valley', 'USA'),\n",
       " (3943, 'Pasadena', 'USA'),\n",
       " (3944, 'Hayward', 'USA'),\n",
       " (3945, 'Brownsville', 'USA'),\n",
       " (3946, 'Bridgeport', 'USA'),\n",
       " (3947, 'Hollywood', 'USA'),\n",
       " (3948, 'Warren', 'USA'),\n",
       " (3949, 'Torrance', 'USA'),\n",
       " (3950, 'Eugene', 'USA'),\n",
       " (3951, 'Pembroke Pines', 'USA'),\n",
       " (3952, 'Salem', 'USA'),\n",
       " (3953, 'Pasadena', 'USA'),\n",
       " (3954, 'Escondido', 'USA'),\n",
       " (3955, 'Sunnyvale', 'USA'),\n",
       " (3956, 'Savannah', 'USA'),\n",
       " (3957, 'Fontana', 'USA'),\n",
       " (3958, 'Orange', 'USA'),\n",
       " (3959, 'Naperville', 'USA'),\n",
       " (3960, 'Alexandria', 'USA'),\n",
       " (3961, 'Rancho Cucamonga', 'USA'),\n",
       " (3962, 'Grand Prairie', 'USA'),\n",
       " (3963, 'East Los Angeles', 'USA'),\n",
       " (3964, 'Fullerton', 'USA'),\n",
       " (3965, 'Corona', 'USA'),\n",
       " (3966, 'Flint', 'USA'),\n",
       " (3967, 'Paradise', 'USA'),\n",
       " (3968, 'Mesquite', 'USA'),\n",
       " (3969, 'Sterling Heights', 'USA'),\n",
       " (3970, 'Sioux Falls', 'USA'),\n",
       " (3971, 'New Haven', 'USA'),\n",
       " (3972, 'Topeka', 'USA'),\n",
       " (3973, 'Concord', 'USA'),\n",
       " (3974, 'Evansville', 'USA'),\n",
       " (3975, 'Hartford', 'USA'),\n",
       " (3976, 'Fayetteville', 'USA'),\n",
       " (3977, 'Cedar Rapids', 'USA'),\n",
       " (3978, 'Elizabeth', 'USA'),\n",
       " (3979, 'Lansing', 'USA'),\n",
       " (3980, 'Lancaster', 'USA'),\n",
       " (3981, 'Fort Collins', 'USA'),\n",
       " (3982, 'Coral Springs', 'USA'),\n",
       " (3983, 'Stamford', 'USA'),\n",
       " (3984, 'Thousand Oaks', 'USA'),\n",
       " (3985, 'Vallejo', 'USA'),\n",
       " (3986, 'Palmdale', 'USA'),\n",
       " (3987, 'Columbia', 'USA'),\n",
       " (3988, 'El Monte', 'USA'),\n",
       " (3989, 'Abilene', 'USA'),\n",
       " (3990, 'North Las Vegas', 'USA'),\n",
       " (3991, 'Ann Arbor', 'USA'),\n",
       " (3992, 'Beaumont', 'USA'),\n",
       " (3993, 'Waco', 'USA'),\n",
       " (3994, 'Macon', 'USA'),\n",
       " (3995, 'Independence', 'USA'),\n",
       " (3996, 'Peoria', 'USA'),\n",
       " (3997, 'Inglewood', 'USA'),\n",
       " (3998, 'Springfield', 'USA'),\n",
       " (3999, 'Simi Valley', 'USA'),\n",
       " (4000, 'Lafayette', 'USA'),\n",
       " (4001, 'Gilbert', 'USA'),\n",
       " (4002, 'Carrollton', 'USA'),\n",
       " (4003, 'Bellevue', 'USA'),\n",
       " (4004, 'West Valley City', 'USA'),\n",
       " (4005, 'Clarksville', 'USA'),\n",
       " (4006, 'Costa Mesa', 'USA'),\n",
       " (4007, 'Peoria', 'USA'),\n",
       " (4008, 'South Bend', 'USA'),\n",
       " (4009, 'Downey', 'USA'),\n",
       " (4010, 'Waterbury', 'USA'),\n",
       " (4011, 'Manchester', 'USA'),\n",
       " (4012, 'Allentown', 'USA'),\n",
       " (4013, 'McAllen', 'USA'),\n",
       " (4014, 'Joliet', 'USA'),\n",
       " (4015, 'Lowell', 'USA'),\n",
       " (4016, 'Provo', 'USA'),\n",
       " (4017, 'West Covina', 'USA'),\n",
       " (4018, 'Wichita Falls', 'USA'),\n",
       " (4019, 'Erie', 'USA'),\n",
       " (4020, 'Daly City', 'USA'),\n",
       " (4021, 'Citrus Heights', 'USA'),\n",
       " (4022, 'Norwalk', 'USA'),\n",
       " (4023, 'Gary', 'USA'),\n",
       " (4024, 'Berkeley', 'USA'),\n",
       " (4025, 'Santa Clara', 'USA'),\n",
       " (4026, 'Green Bay', 'USA'),\n",
       " (4027, 'Cape Coral', 'USA'),\n",
       " (4028, 'Arvada', 'USA'),\n",
       " (4029, 'Pueblo', 'USA'),\n",
       " (4030, 'Sandy', 'USA'),\n",
       " (4031, 'Athens-Clarke County', 'USA'),\n",
       " (4032, 'Cambridge', 'USA'),\n",
       " (4033, 'Westminster', 'USA'),\n",
       " (4034, 'San Buenaventura', 'USA'),\n",
       " (4035, 'Portsmouth', 'USA'),\n",
       " (4036, 'Livonia', 'USA'),\n",
       " (4037, 'Burbank', 'USA'),\n",
       " (4038, 'Clearwater', 'USA'),\n",
       " (4039, 'Midland', 'USA'),\n",
       " (4040, 'Davenport', 'USA'),\n",
       " (4041, 'Mission Viejo', 'USA'),\n",
       " (4042, 'Miami Beach', 'USA'),\n",
       " (4043, 'Sunrise Manor', 'USA'),\n",
       " (4044, 'New Bedford', 'USA'),\n",
       " (4045, 'El Cajon', 'USA'),\n",
       " (4046, 'Norman', 'USA'),\n",
       " (4047, 'Richmond', 'USA'),\n",
       " (4048, 'Albany', 'USA'),\n",
       " (4049, 'Brockton', 'USA'),\n",
       " (4050, 'Roanoke', 'USA'),\n",
       " (4051, 'Billings', 'USA'),\n",
       " (4052, 'Compton', 'USA'),\n",
       " (4053, 'Gainesville', 'USA'),\n",
       " (4054, 'Fairfield', 'USA'),\n",
       " (4055, 'Arden-Arcade', 'USA'),\n",
       " (4056, 'San Mateo', 'USA'),\n",
       " (4057, 'Visalia', 'USA'),\n",
       " (4058, 'Boulder', 'USA'),\n",
       " (4059, 'Cary', 'USA'),\n",
       " (4060, 'Santa Monica', 'USA'),\n",
       " (4061, 'Fall River', 'USA'),\n",
       " (4062, 'Kenosha', 'USA'),\n",
       " (4063, 'Elgin', 'USA'),\n",
       " (4064, 'Odessa', 'USA'),\n",
       " (4065, 'Carson', 'USA'),\n",
       " (4066, 'Charleston', 'USA')]"
      ]
     },
     "execution_count": 30,
     "metadata": {},
     "output_type": "execute_result"
    }
   ],
   "source": [
    "query= \"SELECT * FROM world.city_view\"\n",
    "cursor.execute(query)\n",
    "cursor.fetchall()"
   ]
  },
  {
   "cell_type": "markdown",
   "metadata": {},
   "source": [
    "# Query 19:  DROP VIEW"
   ]
  },
  {
   "cell_type": "code",
   "execution_count": 31,
   "metadata": {},
   "outputs": [
    {
     "data": {
      "text/plain": [
       "[]"
      ]
     },
     "execution_count": 31,
     "metadata": {},
     "output_type": "execute_result"
    }
   ],
   "source": [
    "query= \"DROP VIEW world.city_view\"\n",
    "cursor.execute(query)\n",
    "cursor.fetchall()\n"
   ]
  },
  {
   "cell_type": "markdown",
   "metadata": {},
   "source": [
    "# Query20: Import external data from csv"
   ]
  },
  {
   "cell_type": "code",
   "execution_count": 32,
   "metadata": {},
   "outputs": [
    {
     "data": {
      "text/plain": [
       "[]"
      ]
     },
     "execution_count": 32,
     "metadata": {},
     "output_type": "execute_result"
    }
   ],
   "source": [
    "query = \"CREATE TABLE student.glass(Ser INT,RI INT,NA INT,Mg INT,Al INT,SI INT,K INT,Ca INT,Ba INT,Fe INT,Class INT)\"\n",
    "cursor.execute(query)\n",
    "cursor.fetchall()\n",
    "\n",
    "    "
   ]
  },
  {
   "cell_type": "code",
   "execution_count": 33,
   "metadata": {},
   "outputs": [
    {
     "name": "stdout",
     "output_type": "stream",
     "text": [
      "<_csv.reader object at 0x00000141F29B9B80>\n",
      "(0, ['1,1.52101,13.64,4.49,1.10,71.78,0.06,8.75,0.00,0.00,1'])\n",
      "<class 'str'>\n",
      "(1, ['2,1.51761,13.89,3.60,1.36,72.73,0.48,7.83,0.00,0.00,1'])\n",
      "<class 'str'>\n",
      "(2, ['3,1.51618,13.53,3.55,1.54,72.99,0.39,7.78,0.00,0.00,1'])\n",
      "<class 'str'>\n",
      "(3, ['4,1.51766,13.21,3.69,1.29,72.61,0.57,8.22,0.00,0.00,1'])\n",
      "<class 'str'>\n",
      "(4, ['5,1.51742,13.27,3.62,1.24,73.08,0.55,8.07,0.00,0.00,1'])\n",
      "<class 'str'>\n",
      "(5, ['6,1.51596,12.79,3.61,1.62,72.97,0.64,8.07,0.00,0.26,1'])\n",
      "<class 'str'>\n",
      "(6, ['7,1.51743,13.30,3.60,1.14,73.09,0.58,8.17,0.00,0.00,1'])\n",
      "<class 'str'>\n",
      "(7, ['8,1.51756,13.15,3.61,1.05,73.24,0.57,8.24,0.00,0.00,1'])\n",
      "<class 'str'>\n",
      "(8, ['9,1.51918,14.04,3.58,1.37,72.08,0.56,8.30,0.00,0.00,1'])\n",
      "<class 'str'>\n",
      "(9, ['10,1.51755,13.00,3.60,1.36,72.99,0.57,8.40,0.00,0.11,1'])\n",
      "<class 'str'>\n",
      "(10, ['11,1.51571,12.72,3.46,1.56,73.20,0.67,8.09,0.00,0.24,1'])\n",
      "<class 'str'>\n",
      "(11, ['12,1.51763,12.80,3.66,1.27,73.01,0.60,8.56,0.00,0.00,1'])\n",
      "<class 'str'>\n",
      "(12, ['13,1.51589,12.88,3.43,1.40,73.28,0.69,8.05,0.00,0.24,1'])\n",
      "<class 'str'>\n",
      "(13, ['14,1.51748,12.86,3.56,1.27,73.21,0.54,8.38,0.00,0.17,1'])\n",
      "<class 'str'>\n",
      "(14, ['15,1.51763,12.61,3.59,1.31,73.29,0.58,8.50,0.00,0.00,1'])\n",
      "<class 'str'>\n",
      "(15, ['16,1.51761,12.81,3.54,1.23,73.24,0.58,8.39,0.00,0.00,1'])\n",
      "<class 'str'>\n",
      "(16, ['17,1.51784,12.68,3.67,1.16,73.11,0.61,8.70,0.00,0.00,1'])\n",
      "<class 'str'>\n",
      "(17, ['18,1.52196,14.36,3.85,0.89,71.36,0.15,9.15,0.00,0.00,1'])\n",
      "<class 'str'>\n",
      "(18, ['19,1.51911,13.90,3.73,1.18,72.12,0.06,8.89,0.00,0.00,1'])\n",
      "<class 'str'>\n",
      "(19, ['20,1.51735,13.02,3.54,1.69,72.73,0.54,8.44,0.00,0.07,1'])\n",
      "<class 'str'>\n",
      "(20, ['21,1.51750,12.82,3.55,1.49,72.75,0.54,8.52,0.00,0.19,1'])\n",
      "<class 'str'>\n",
      "(21, ['22,1.51966,14.77,3.75,0.29,72.02,0.03,9.00,0.00,0.00,1'])\n",
      "<class 'str'>\n",
      "(22, ['23,1.51736,12.78,3.62,1.29,72.79,0.59,8.70,0.00,0.00,1'])\n",
      "<class 'str'>\n",
      "(23, ['24,1.51751,12.81,3.57,1.35,73.02,0.62,8.59,0.00,0.00,1'])\n",
      "<class 'str'>\n",
      "(24, ['25,1.51720,13.38,3.50,1.15,72.85,0.50,8.43,0.00,0.00,1'])\n",
      "<class 'str'>\n",
      "(25, ['26,1.51764,12.98,3.54,1.21,73.00,0.65,8.53,0.00,0.00,1'])\n",
      "<class 'str'>\n",
      "(26, ['27,1.51793,13.21,3.48,1.41,72.64,0.59,8.43,0.00,0.00,1'])\n",
      "<class 'str'>\n",
      "(27, ['28,1.51721,12.87,3.48,1.33,73.04,0.56,8.43,0.00,0.00,1'])\n",
      "<class 'str'>\n",
      "(28, ['29,1.51768,12.56,3.52,1.43,73.15,0.57,8.54,0.00,0.00,1'])\n",
      "<class 'str'>\n",
      "(29, ['30,1.51784,13.08,3.49,1.28,72.86,0.60,8.49,0.00,0.00,1'])\n",
      "<class 'str'>\n",
      "(30, ['31,1.51768,12.65,3.56,1.30,73.08,0.61,8.69,0.00,0.14,1'])\n",
      "<class 'str'>\n",
      "(31, ['32,1.51747,12.84,3.50,1.14,73.27,0.56,8.55,0.00,0.00,1'])\n",
      "<class 'str'>\n",
      "(32, ['33,1.51775,12.85,3.48,1.23,72.97,0.61,8.56,0.09,0.22,1'])\n",
      "<class 'str'>\n",
      "(33, ['34,1.51753,12.57,3.47,1.38,73.39,0.60,8.55,0.00,0.06,1'])\n",
      "<class 'str'>\n",
      "(34, ['35,1.51783,12.69,3.54,1.34,72.95,0.57,8.75,0.00,0.00,1'])\n",
      "<class 'str'>\n",
      "(35, ['36,1.51567,13.29,3.45,1.21,72.74,0.56,8.57,0.00,0.00,1'])\n",
      "<class 'str'>\n",
      "(36, ['37,1.51909,13.89,3.53,1.32,71.81,0.51,8.78,0.11,0.00,1'])\n",
      "<class 'str'>\n",
      "(37, ['38,1.51797,12.74,3.48,1.35,72.96,0.64,8.68,0.00,0.00,1'])\n",
      "<class 'str'>\n",
      "(38, ['39,1.52213,14.21,3.82,0.47,71.77,0.11,9.57,0.00,0.00,1'])\n",
      "<class 'str'>\n",
      "(39, ['40,1.52213,14.21,3.82,0.47,71.77,0.11,9.57,0.00,0.00,1'])\n",
      "<class 'str'>\n",
      "(40, ['41,1.51793,12.79,3.50,1.12,73.03,0.64,8.77,0.00,0.00,1'])\n",
      "<class 'str'>\n",
      "(41, ['42,1.51755,12.71,3.42,1.20,73.20,0.59,8.64,0.00,0.00,1'])\n",
      "<class 'str'>\n",
      "(42, ['43,1.51779,13.21,3.39,1.33,72.76,0.59,8.59,0.00,0.00,1'])\n",
      "<class 'str'>\n",
      "(43, ['44,1.52210,13.73,3.84,0.72,71.76,0.17,9.74,0.00,0.00,1'])\n",
      "<class 'str'>\n",
      "(44, ['45,1.51786,12.73,3.43,1.19,72.95,0.62,8.76,0.00,0.30,1'])\n",
      "<class 'str'>\n",
      "(45, ['46,1.51900,13.49,3.48,1.35,71.95,0.55,9.00,0.00,0.00,1'])\n",
      "<class 'str'>\n",
      "(46, ['47,1.51869,13.19,3.37,1.18,72.72,0.57,8.83,0.00,0.16,1'])\n",
      "<class 'str'>\n",
      "(47, ['48,1.52667,13.99,3.70,0.71,71.57,0.02,9.82,0.00,0.10,1'])\n",
      "<class 'str'>\n",
      "(48, ['49,1.52223,13.21,3.77,0.79,71.99,0.13,10.02,0.00,0.00,1'])\n",
      "<class 'str'>\n",
      "(49, ['50,1.51898,13.58,3.35,1.23,72.08,0.59,8.91,0.00,0.00,1'])\n",
      "<class 'str'>\n",
      "(50, ['51,1.52320,13.72,3.72,0.51,71.75,0.09,10.06,0.00,0.16,1'])\n",
      "<class 'str'>\n",
      "(51, ['52,1.51926,13.20,3.33,1.28,72.36,0.60,9.14,0.00,0.11,1'])\n",
      "<class 'str'>\n",
      "(52, ['53,1.51808,13.43,2.87,1.19,72.84,0.55,9.03,0.00,0.00,1'])\n",
      "<class 'str'>\n",
      "(53, ['54,1.51837,13.14,2.84,1.28,72.85,0.55,9.07,0.00,0.00,1'])\n",
      "<class 'str'>\n",
      "(54, ['55,1.51778,13.21,2.81,1.29,72.98,0.51,9.02,0.00,0.09,1'])\n",
      "<class 'str'>\n",
      "(55, ['56,1.51769,12.45,2.71,1.29,73.70,0.56,9.06,0.00,0.24,1'])\n",
      "<class 'str'>\n",
      "(56, ['57,1.51215,12.99,3.47,1.12,72.98,0.62,8.35,0.00,0.31,1'])\n",
      "<class 'str'>\n",
      "(57, ['58,1.51824,12.87,3.48,1.29,72.95,0.60,8.43,0.00,0.00,1'])\n",
      "<class 'str'>\n",
      "(58, ['59,1.51754,13.48,3.74,1.17,72.99,0.59,8.03,0.00,0.00,1'])\n",
      "<class 'str'>\n",
      "(59, ['60,1.51754,13.39,3.66,1.19,72.79,0.57,8.27,0.00,0.11,1'])\n",
      "<class 'str'>\n",
      "(60, ['61,1.51905,13.60,3.62,1.11,72.64,0.14,8.76,0.00,0.00,1'])\n",
      "<class 'str'>\n",
      "(61, ['62,1.51977,13.81,3.58,1.32,71.72,0.12,8.67,0.69,0.00,1'])\n",
      "<class 'str'>\n",
      "(62, ['63,1.52172,13.51,3.86,0.88,71.79,0.23,9.54,0.00,0.11,1'])\n",
      "<class 'str'>\n",
      "(63, ['64,1.52227,14.17,3.81,0.78,71.35,0.00,9.69,0.00,0.00,1'])\n",
      "<class 'str'>\n",
      "(64, ['65,1.52172,13.48,3.74,0.90,72.01,0.18,9.61,0.00,0.07,1'])\n",
      "<class 'str'>\n",
      "(65, ['66,1.52099,13.69,3.59,1.12,71.96,0.09,9.40,0.00,0.00,1'])\n",
      "<class 'str'>\n",
      "(66, ['67,1.52152,13.05,3.65,0.87,72.22,0.19,9.85,0.00,0.17,1'])\n",
      "<class 'str'>\n",
      "(67, ['68,1.52152,13.05,3.65,0.87,72.32,0.19,9.85,0.00,0.17,1'])\n",
      "<class 'str'>\n",
      "(68, ['69,1.52152,13.12,3.58,0.90,72.20,0.23,9.82,0.00,0.16,1'])\n",
      "<class 'str'>\n",
      "(69, ['70,1.52300,13.31,3.58,0.82,71.99,0.12,10.17,0.00,0.03,1'])\n",
      "<class 'str'>\n",
      "(70, ['71,1.51574,14.86,3.67,1.74,71.87,0.16,7.36,0.00,0.12,2'])\n",
      "<class 'str'>\n",
      "(71, ['72,1.51848,13.64,3.87,1.27,71.96,0.54,8.32,0.00,0.32,2'])\n",
      "<class 'str'>\n",
      "(72, ['73,1.51593,13.09,3.59,1.52,73.10,0.67,7.83,0.00,0.00,2'])\n",
      "<class 'str'>\n",
      "(73, ['74,1.51631,13.34,3.57,1.57,72.87,0.61,7.89,0.00,0.00,2'])\n",
      "<class 'str'>\n",
      "(74, ['75,1.51596,13.02,3.56,1.54,73.11,0.72,7.90,0.00,0.00,2'])\n",
      "<class 'str'>\n",
      "(75, ['76,1.51590,13.02,3.58,1.51,73.12,0.69,7.96,0.00,0.00,2'])\n",
      "<class 'str'>\n",
      "(76, ['77,1.51645,13.44,3.61,1.54,72.39,0.66,8.03,0.00,0.00,2'])\n",
      "<class 'str'>\n",
      "(77, ['78,1.51627,13.00,3.58,1.54,72.83,0.61,8.04,0.00,0.00,2'])\n",
      "<class 'str'>\n",
      "(78, ['79,1.51613,13.92,3.52,1.25,72.88,0.37,7.94,0.00,0.14,2'])\n",
      "<class 'str'>\n",
      "(79, ['80,1.51590,12.82,3.52,1.90,72.86,0.69,7.97,0.00,0.00,2'])\n",
      "<class 'str'>\n",
      "(80, ['81,1.51592,12.86,3.52,2.12,72.66,0.69,7.97,0.00,0.00,2'])\n",
      "<class 'str'>\n",
      "(81, ['82,1.51593,13.25,3.45,1.43,73.17,0.61,7.86,0.00,0.00,2'])\n",
      "<class 'str'>\n",
      "(82, ['83,1.51646,13.41,3.55,1.25,72.81,0.68,8.10,0.00,0.00,2'])\n",
      "<class 'str'>\n",
      "(83, ['84,1.51594,13.09,3.52,1.55,72.87,0.68,8.05,0.00,0.09,2'])\n",
      "<class 'str'>\n",
      "(84, ['85,1.51409,14.25,3.09,2.08,72.28,1.10,7.08,0.00,0.00,2'])\n",
      "<class 'str'>\n",
      "(85, ['86,1.51625,13.36,3.58,1.49,72.72,0.45,8.21,0.00,0.00,2'])\n",
      "<class 'str'>\n",
      "(86, ['87,1.51569,13.24,3.49,1.47,73.25,0.38,8.03,0.00,0.00,2'])\n",
      "<class 'str'>\n",
      "(87, ['88,1.51645,13.40,3.49,1.52,72.65,0.67,8.08,0.00,0.10,2'])\n",
      "<class 'str'>\n",
      "(88, ['89,1.51618,13.01,3.50,1.48,72.89,0.60,8.12,0.00,0.00,2'])\n",
      "<class 'str'>\n",
      "(89, ['90,1.51640,12.55,3.48,1.87,73.23,0.63,8.08,0.00,0.09,2'])\n",
      "<class 'str'>\n",
      "(90, ['91,1.51841,12.93,3.74,1.11,72.28,0.64,8.96,0.00,0.22,2'])\n",
      "<class 'str'>\n",
      "(91, ['92,1.51605,12.90,3.44,1.45,73.06,0.44,8.27,0.00,0.00,2'])\n",
      "<class 'str'>\n",
      "(92, ['93,1.51588,13.12,3.41,1.58,73.26,0.07,8.39,0.00,0.19,2'])\n",
      "<class 'str'>\n",
      "(93, ['94,1.51590,13.24,3.34,1.47,73.10,0.39,8.22,0.00,0.00,2'])\n",
      "<class 'str'>\n",
      "(94, ['95,1.51629,12.71,3.33,1.49,73.28,0.67,8.24,0.00,0.00,2'])\n",
      "<class 'str'>\n",
      "(95, ['96,1.51860,13.36,3.43,1.43,72.26,0.51,8.60,0.00,0.00,2'])\n",
      "<class 'str'>\n",
      "(96, ['97,1.51841,13.02,3.62,1.06,72.34,0.64,9.13,0.00,0.15,2'])\n",
      "<class 'str'>\n",
      "(97, ['98,1.51743,12.20,3.25,1.16,73.55,0.62,8.90,0.00,0.24,2'])\n",
      "<class 'str'>\n",
      "(98, ['99,1.51689,12.67,2.88,1.71,73.21,0.73,8.54,0.00,0.00,2'])\n",
      "<class 'str'>\n",
      "(99, ['100,1.51811,12.96,2.96,1.43,72.92,0.60,8.79,0.14,0.00,2'])\n",
      "<class 'str'>\n",
      "(100, ['101,1.51655,12.75,2.85,1.44,73.27,0.57,8.79,0.11,0.22,2'])\n",
      "<class 'str'>\n",
      "(101, ['102,1.51730,12.35,2.72,1.63,72.87,0.70,9.23,0.00,0.00,2'])\n",
      "<class 'str'>\n",
      "(102, ['103,1.51820,12.62,2.76,0.83,73.81,0.35,9.42,0.00,0.20,2'])\n",
      "<class 'str'>\n",
      "(103, ['104,1.52725,13.80,3.15,0.66,70.57,0.08,11.64,0.00,0.00,2'])\n",
      "<class 'str'>\n",
      "(104, ['105,1.52410,13.83,2.90,1.17,71.15,0.08,10.79,0.00,0.00,2'])\n",
      "<class 'str'>\n",
      "(105, ['106,1.52475,11.45,0.00,1.88,72.19,0.81,13.24,0.00,0.34,2'])\n",
      "<class 'str'>\n",
      "(106, ['107,1.53125,10.73,0.00,2.10,69.81,0.58,13.30,3.15,0.28,2'])\n",
      "<class 'str'>\n",
      "(107, ['108,1.53393,12.30,0.00,1.00,70.16,0.12,16.19,0.00,0.24,2'])\n",
      "<class 'str'>\n",
      "(108, ['109,1.52222,14.43,0.00,1.00,72.67,0.10,11.52,0.00,0.08,2'])\n",
      "<class 'str'>\n",
      "(109, ['110,1.51818,13.72,0.00,0.56,74.45,0.00,10.99,0.00,0.00,2'])\n",
      "<class 'str'>\n",
      "(110, ['111,1.52664,11.23,0.00,0.77,73.21,0.00,14.68,0.00,0.00,2'])\n",
      "<class 'str'>\n",
      "(111, ['112,1.52739,11.02,0.00,0.75,73.08,0.00,14.96,0.00,0.00,2'])\n",
      "<class 'str'>\n",
      "(112, ['113,1.52777,12.64,0.00,0.67,72.02,0.06,14.40,0.00,0.00,2'])\n",
      "<class 'str'>\n",
      "(113, ['114,1.51892,13.46,3.83,1.26,72.55,0.57,8.21,0.00,0.14,2'])\n",
      "<class 'str'>\n",
      "(114, ['115,1.51847,13.10,3.97,1.19,72.44,0.60,8.43,0.00,0.00,2'])\n",
      "<class 'str'>\n",
      "(115, ['116,1.51846,13.41,3.89,1.33,72.38,0.51,8.28,0.00,0.00,2'])\n",
      "<class 'str'>\n",
      "(116, ['117,1.51829,13.24,3.90,1.41,72.33,0.55,8.31,0.00,0.10,2'])\n",
      "<class 'str'>\n",
      "(117, ['118,1.51708,13.72,3.68,1.81,72.06,0.64,7.88,0.00,0.00,2'])\n",
      "<class 'str'>\n",
      "(118, ['119,1.51673,13.30,3.64,1.53,72.53,0.65,8.03,0.00,0.29,2'])\n",
      "<class 'str'>\n",
      "(119, ['120,1.51652,13.56,3.57,1.47,72.45,0.64,7.96,0.00,0.00,2'])\n",
      "<class 'str'>\n",
      "(120, ['121,1.51844,13.25,3.76,1.32,72.40,0.58,8.42,0.00,0.00,2'])\n",
      "<class 'str'>\n",
      "(121, ['122,1.51663,12.93,3.54,1.62,72.96,0.64,8.03,0.00,0.21,2'])\n",
      "<class 'str'>\n",
      "(122, ['123,1.51687,13.23,3.54,1.48,72.84,0.56,8.10,0.00,0.00,2'])\n",
      "<class 'str'>\n",
      "(123, ['124,1.51707,13.48,3.48,1.71,72.52,0.62,7.99,0.00,0.00,2'])\n",
      "<class 'str'>\n",
      "(124, ['125,1.52177,13.20,3.68,1.15,72.75,0.54,8.52,0.00,0.00,2'])\n",
      "<class 'str'>\n",
      "(125, ['126,1.51872,12.93,3.66,1.56,72.51,0.58,8.55,0.00,0.12,2'])\n",
      "<class 'str'>\n",
      "(126, ['127,1.51667,12.94,3.61,1.26,72.75,0.56,8.60,0.00,0.00,2'])\n",
      "<class 'str'>\n",
      "(127, ['128,1.52081,13.78,2.28,1.43,71.99,0.49,9.85,0.00,0.17,2'])\n",
      "<class 'str'>\n",
      "(128, ['129,1.52068,13.55,2.09,1.67,72.18,0.53,9.57,0.27,0.17,2'])\n",
      "<class 'str'>\n",
      "(129, ['130,1.52020,13.98,1.35,1.63,71.76,0.39,10.56,0.00,0.18,2'])\n",
      "<class 'str'>\n",
      "(130, ['131,1.52177,13.75,1.01,1.36,72.19,0.33,11.14,0.00,0.00,2'])\n",
      "<class 'str'>\n",
      "(131, ['132,1.52614,13.70,0.00,1.36,71.24,0.19,13.44,0.00,0.10,2'])\n",
      "<class 'str'>\n",
      "(132, ['133,1.51813,13.43,3.98,1.18,72.49,0.58,8.15,0.00,0.00,2'])\n",
      "<class 'str'>\n",
      "(133, ['134,1.51800,13.71,3.93,1.54,71.81,0.54,8.21,0.00,0.15,2'])\n",
      "<class 'str'>\n",
      "(134, ['135,1.51811,13.33,3.85,1.25,72.78,0.52,8.12,0.00,0.00,2'])\n",
      "<class 'str'>\n",
      "(135, ['136,1.51789,13.19,3.90,1.30,72.33,0.55,8.44,0.00,0.28,2'])\n",
      "<class 'str'>\n",
      "(136, ['137,1.51806,13.00,3.80,1.08,73.07,0.56,8.38,0.00,0.12,2'])\n",
      "<class 'str'>\n",
      "(137, ['138,1.51711,12.89,3.62,1.57,72.96,0.61,8.11,0.00,0.00,2'])\n",
      "<class 'str'>\n",
      "(138, ['139,1.51674,12.79,3.52,1.54,73.36,0.66,7.90,0.00,0.00,2'])\n",
      "<class 'str'>\n",
      "(139, ['140,1.51674,12.87,3.56,1.64,73.14,0.65,7.99,0.00,0.00,2'])\n",
      "<class 'str'>\n",
      "(140, ['141,1.51690,13.33,3.54,1.61,72.54,0.68,8.11,0.00,0.00,2'])\n",
      "<class 'str'>\n",
      "(141, ['142,1.51851,13.20,3.63,1.07,72.83,0.57,8.41,0.09,0.17,2'])\n",
      "<class 'str'>\n",
      "(142, ['143,1.51662,12.85,3.51,1.44,73.01,0.68,8.23,0.06,0.25,2'])\n",
      "<class 'str'>\n",
      "(143, ['144,1.51709,13.00,3.47,1.79,72.72,0.66,8.18,0.00,0.00,2'])\n",
      "<class 'str'>\n",
      "(144, ['145,1.51660,12.99,3.18,1.23,72.97,0.58,8.81,0.00,0.24,2'])\n",
      "<class 'str'>\n",
      "(145, ['146,1.51839,12.85,3.67,1.24,72.57,0.62,8.68,0.00,0.35,2'])\n",
      "<class 'str'>\n",
      "(146, ['147,1.51769,13.65,3.66,1.11,72.77,0.11,8.60,0.00,0.00,3'])\n",
      "<class 'str'>\n",
      "(147, ['148,1.51610,13.33,3.53,1.34,72.67,0.56,8.33,0.00,0.00,3'])\n",
      "<class 'str'>\n",
      "(148, ['149,1.51670,13.24,3.57,1.38,72.70,0.56,8.44,0.00,0.10,3'])\n",
      "<class 'str'>\n",
      "(149, ['150,1.51643,12.16,3.52,1.35,72.89,0.57,8.53,0.00,0.00,3'])\n",
      "<class 'str'>\n",
      "(150, ['151,1.51665,13.14,3.45,1.76,72.48,0.60,8.38,0.00,0.17,3'])\n",
      "<class 'str'>\n",
      "(151, ['152,1.52127,14.32,3.90,0.83,71.50,0.00,9.49,0.00,0.00,3'])\n",
      "<class 'str'>\n",
      "(152, ['153,1.51779,13.64,3.65,0.65,73.00,0.06,8.93,0.00,0.00,3'])\n",
      "<class 'str'>\n",
      "(153, ['154,1.51610,13.42,3.40,1.22,72.69,0.59,8.32,0.00,0.00,3'])\n",
      "<class 'str'>\n",
      "(154, ['155,1.51694,12.86,3.58,1.31,72.61,0.61,8.79,0.00,0.00,3'])\n",
      "<class 'str'>\n",
      "(155, ['156,1.51646,13.04,3.40,1.26,73.01,0.52,8.58,0.00,0.00,3'])\n",
      "<class 'str'>\n",
      "(156, ['157,1.51655,13.41,3.39,1.28,72.64,0.52,8.65,0.00,0.00,3'])\n",
      "<class 'str'>\n",
      "(157, ['158,1.52121,14.03,3.76,0.58,71.79,0.11,9.65,0.00,0.00,3'])\n",
      "<class 'str'>\n",
      "(158, ['159,1.51776,13.53,3.41,1.52,72.04,0.58,8.79,0.00,0.00,3'])\n",
      "<class 'str'>\n",
      "(159, ['160,1.51796,13.50,3.36,1.63,71.94,0.57,8.81,0.00,0.09,3'])\n",
      "<class 'str'>\n",
      "(160, ['161,1.51832,13.33,3.34,1.54,72.14,0.56,8.99,0.00,0.00,3'])\n",
      "<class 'str'>\n",
      "(161, ['162,1.51934,13.64,3.54,0.75,72.65,0.16,8.89,0.15,0.24,3'])\n",
      "<class 'str'>\n",
      "(162, ['163,1.52211,14.19,3.78,0.91,71.36,0.23,9.14,0.00,0.37,3'])\n",
      "<class 'str'>\n",
      "(163, ['164,1.51514,14.01,2.68,3.50,69.89,1.68,5.87,2.20,0.00,5'])\n",
      "<class 'str'>\n",
      "(164, ['165,1.51915,12.73,1.85,1.86,72.69,0.60,10.09,0.00,0.00,5'])\n",
      "<class 'str'>\n",
      "(165, ['166,1.52171,11.56,1.88,1.56,72.86,0.47,11.41,0.00,0.00,5'])\n",
      "<class 'str'>\n",
      "(166, ['167,1.52151,11.03,1.71,1.56,73.44,0.58,11.62,0.00,0.00,5'])\n",
      "<class 'str'>\n",
      "(167, ['168,1.51969,12.64,0.00,1.65,73.75,0.38,11.53,0.00,0.00,5'])\n",
      "<class 'str'>\n",
      "(168, ['169,1.51666,12.86,0.00,1.83,73.88,0.97,10.17,0.00,0.00,5'])\n",
      "<class 'str'>\n",
      "(169, ['170,1.51994,13.27,0.00,1.76,73.03,0.47,11.32,0.00,0.00,5'])\n",
      "<class 'str'>\n",
      "(170, ['171,1.52369,13.44,0.00,1.58,72.22,0.32,12.24,0.00,0.00,5'])\n",
      "<class 'str'>\n",
      "(171, ['172,1.51316,13.02,0.00,3.04,70.48,6.21,6.96,0.00,0.00,5'])\n",
      "<class 'str'>\n",
      "(172, ['173,1.51321,13.00,0.00,3.02,70.70,6.21,6.93,0.00,0.00,5'])\n",
      "<class 'str'>\n",
      "(173, ['174,1.52043,13.38,0.00,1.40,72.25,0.33,12.50,0.00,0.00,5'])\n",
      "<class 'str'>\n",
      "(174, ['175,1.52058,12.85,1.61,2.17,72.18,0.76,9.70,0.24,0.51,5'])\n",
      "<class 'str'>\n",
      "(175, ['176,1.52119,12.97,0.33,1.51,73.39,0.13,11.27,0.00,0.28,5'])\n",
      "<class 'str'>\n",
      "(176, ['177,1.51905,14.00,2.39,1.56,72.37,0.00,9.57,0.00,0.00,6'])\n",
      "<class 'str'>\n",
      "(177, ['178,1.51937,13.79,2.41,1.19,72.76,0.00,9.77,0.00,0.00,6'])\n",
      "<class 'str'>\n",
      "(178, ['179,1.51829,14.46,2.24,1.62,72.38,0.00,9.26,0.00,0.00,6'])\n",
      "<class 'str'>\n",
      "(179, ['180,1.51852,14.09,2.19,1.66,72.67,0.00,9.32,0.00,0.00,6'])\n",
      "<class 'str'>\n",
      "(180, ['181,1.51299,14.40,1.74,1.54,74.55,0.00,7.59,0.00,0.00,6'])\n",
      "<class 'str'>\n",
      "(181, ['182,1.51888,14.99,0.78,1.74,72.50,0.00,9.95,0.00,0.00,6'])\n",
      "<class 'str'>\n",
      "(182, ['183,1.51916,14.15,0.00,2.09,72.74,0.00,10.88,0.00,0.00,6'])\n",
      "<class 'str'>\n",
      "(183, ['184,1.51969,14.56,0.00,0.56,73.48,0.00,11.22,0.00,0.00,6'])\n",
      "<class 'str'>\n",
      "(184, ['185,1.51115,17.38,0.00,0.34,75.41,0.00,6.65,0.00,0.00,6'])\n",
      "<class 'str'>\n",
      "(185, ['186,1.51131,13.69,3.20,1.81,72.81,1.76,5.43,1.19,0.00,7'])\n",
      "<class 'str'>\n",
      "(186, ['187,1.51838,14.32,3.26,2.22,71.25,1.46,5.79,1.63,0.00,7'])\n",
      "<class 'str'>\n",
      "(187, ['188,1.52315,13.44,3.34,1.23,72.38,0.60,8.83,0.00,0.00,7'])\n",
      "<class 'str'>\n",
      "(188, ['189,1.52247,14.86,2.20,2.06,70.26,0.76,9.76,0.00,0.00,7'])\n",
      "<class 'str'>\n",
      "(189, ['190,1.52365,15.79,1.83,1.31,70.43,0.31,8.61,1.68,0.00,7'])\n",
      "<class 'str'>\n",
      "(190, ['191,1.51613,13.88,1.78,1.79,73.10,0.00,8.67,0.76,0.00,7'])\n",
      "<class 'str'>\n",
      "(191, ['192,1.51602,14.85,0.00,2.38,73.28,0.00,8.76,0.64,0.09,7'])\n",
      "<class 'str'>\n",
      "(192, ['193,1.51623,14.20,0.00,2.79,73.46,0.04,9.04,0.40,0.09,7'])\n",
      "<class 'str'>\n",
      "(193, ['194,1.51719,14.75,0.00,2.00,73.02,0.00,8.53,1.59,0.08,7'])\n",
      "<class 'str'>\n",
      "(194, ['195,1.51683,14.56,0.00,1.98,73.29,0.00,8.52,1.57,0.07,7'])\n",
      "<class 'str'>\n",
      "(195, ['196,1.51545,14.14,0.00,2.68,73.39,0.08,9.07,0.61,0.05,7'])\n",
      "<class 'str'>\n",
      "(196, ['197,1.51556,13.87,0.00,2.54,73.23,0.14,9.41,0.81,0.01,7'])\n",
      "<class 'str'>\n",
      "(197, ['198,1.51727,14.70,0.00,2.34,73.28,0.00,8.95,0.66,0.00,7'])\n",
      "<class 'str'>\n",
      "(198, ['199,1.51531,14.38,0.00,2.66,73.10,0.04,9.08,0.64,0.00,7'])\n",
      "<class 'str'>\n",
      "(199, ['200,1.51609,15.01,0.00,2.51,73.05,0.05,8.83,0.53,0.00,7'])\n",
      "<class 'str'>\n",
      "(200, ['201,1.51508,15.15,0.00,2.25,73.50,0.00,8.34,0.63,0.00,7'])\n",
      "<class 'str'>\n",
      "(201, ['202,1.51653,11.95,0.00,1.19,75.18,2.70,8.93,0.00,0.00,7'])\n",
      "<class 'str'>\n",
      "(202, ['203,1.51514,14.85,0.00,2.42,73.72,0.00,8.39,0.56,0.00,7'])\n",
      "<class 'str'>\n",
      "(203, ['204,1.51658,14.80,0.00,1.99,73.11,0.00,8.28,1.71,0.00,7'])\n",
      "<class 'str'>\n",
      "(204, ['205,1.51617,14.95,0.00,2.27,73.30,0.00,8.71,0.67,0.00,7'])\n",
      "<class 'str'>\n",
      "(205, ['206,1.51732,14.95,0.00,1.80,72.99,0.00,8.61,1.55,0.00,7'])\n",
      "<class 'str'>\n",
      "(206, ['207,1.51645,14.94,0.00,1.87,73.11,0.00,8.67,1.38,0.00,7'])\n",
      "<class 'str'>\n",
      "(207, ['208,1.51831,14.39,0.00,1.82,72.86,1.41,6.47,2.88,0.00,7'])\n",
      "<class 'str'>\n",
      "(208, ['209,1.51640,14.37,0.00,2.74,72.85,0.00,9.45,0.54,0.00,7'])\n",
      "<class 'str'>\n",
      "(209, ['210,1.51623,14.14,0.00,2.88,72.61,0.08,9.18,1.06,0.00,7'])\n",
      "<class 'str'>\n",
      "(210, ['211,1.51685,14.92,0.00,1.99,73.06,0.00,8.40,1.59,0.00,7'])\n",
      "<class 'str'>\n",
      "(211, ['212,1.52065,14.36,0.00,2.02,73.42,0.00,8.44,1.64,0.00,7'])\n",
      "<class 'str'>\n",
      "(212, ['213,1.51651,14.38,0.00,1.94,73.61,0.00,8.48,1.57,0.00,7'])\n",
      "<class 'str'>\n",
      "(213, ['214,1.51711,14.23,0.00,2.08,73.36,0.00,8.62,1.67,0.00,7'])\n",
      "<class 'str'>\n",
      "all the data inserted \n"
     ]
    }
   ],
   "source": [
    "# execute and insert the csv into the database.\n",
    "with open('glass.data',\"r\") as data :\n",
    "    next(data)\n",
    "    data_csv = csv.reader(data, delimiter= \"\\n\")\n",
    "    print(data_csv)\n",
    "    for i in enumerate(data_csv):\n",
    "        print(i)\n",
    "        for j in i[1] :\n",
    "            print(type(j))\n",
    "            cursor.execute('insert into student.glass values ({data})'.format(data=(j)))\n",
    "    print(\"all the data inserted \")\n",
    "    \n",
    "mydb.commit()    "
   ]
  },
  {
   "cell_type": "markdown",
   "metadata": {},
   "source": [
    "# Query21: Math function -Count"
   ]
  },
  {
   "cell_type": "code",
   "execution_count": 34,
   "metadata": {},
   "outputs": [
    {
     "data": {
      "text/plain": [
       "[(214,)]"
      ]
     },
     "execution_count": 34,
     "metadata": {},
     "output_type": "execute_result"
    }
   ],
   "source": [
    "# Number of row\n",
    "query = \"select count(*) FROM student.glass\"\n",
    "cursor.execute(query)\n",
    "cursor.fetchall()"
   ]
  },
  {
   "cell_type": "markdown",
   "metadata": {},
   "source": [
    "# Query22:  Math function - Mean"
   ]
  },
  {
   "cell_type": "code",
   "execution_count": 35,
   "metadata": {},
   "outputs": [
    {
     "data": {
      "text/plain": [
       "[(Decimal('72.6495'),)]"
      ]
     },
     "execution_count": 35,
     "metadata": {},
     "output_type": "execute_result"
    }
   ],
   "source": [
    "query = \"select AVG(SI) FROM student.glass\"\n",
    "cursor.execute(query)\n",
    "cursor.fetchall()"
   ]
  },
  {
   "cell_type": "markdown",
   "metadata": {},
   "source": [
    "# Query23:  Math function - MIN"
   ]
  },
  {
   "cell_type": "code",
   "execution_count": 36,
   "metadata": {},
   "outputs": [
    {
     "data": {
      "text/plain": [
       "[(70,)]"
      ]
     },
     "execution_count": 36,
     "metadata": {},
     "output_type": "execute_result"
    }
   ],
   "source": [
    "query = \"select MIN(SI) FROM student.glass\"\n",
    "cursor.execute(query)\n",
    "cursor.fetchall()"
   ]
  },
  {
   "cell_type": "markdown",
   "metadata": {},
   "source": [
    "# Query24:  BETWEEN"
   ]
  },
  {
   "cell_type": "code",
   "execution_count": 37,
   "metadata": {},
   "outputs": [
    {
     "data": {
      "text/plain": [
       "[(72,), (73,), (73,), (73,), (73,), (73,), (73,), (73,), (72,), (73,)]"
      ]
     },
     "execution_count": 37,
     "metadata": {},
     "output_type": "execute_result"
    }
   ],
   "source": [
    "query = \"select SI FROM student.glass WHERE SI BETWEEN 70 AND 75 LIMIT 10\"\n",
    "cursor.execute(query)\n",
    "cursor.fetchall()"
   ]
  },
  {
   "cell_type": "markdown",
   "metadata": {},
   "source": [
    "# Query25:  DELETE DATABASE"
   ]
  },
  {
   "cell_type": "code",
   "execution_count": 38,
   "metadata": {},
   "outputs": [
    {
     "data": {
      "text/plain": [
       "[]"
      ]
     },
     "execution_count": 38,
     "metadata": {},
     "output_type": "execute_result"
    }
   ],
   "source": [
    "query = \"DROP DATABASE student\"\n",
    "cursor.execute(query)\n",
    "cursor.fetchall()"
   ]
  },
  {
   "cell_type": "code",
   "execution_count": 39,
   "metadata": {},
   "outputs": [
    {
     "data": {
      "text/plain": [
       "[('information_schema',),\n",
       " ('mysql',),\n",
       " ('performance_schema',),\n",
       " ('sakila',),\n",
       " ('sys',),\n",
       " ('world',)]"
      ]
     },
     "execution_count": 39,
     "metadata": {},
     "output_type": "execute_result"
    }
   ],
   "source": [
    "query = \"SHOW DATABASES\"\n",
    "cursor.execute(query)\n",
    "cursor.fetchall()"
   ]
  },
  {
   "cell_type": "code",
   "execution_count": null,
   "metadata": {},
   "outputs": [],
   "source": []
  }
 ],
 "metadata": {
  "kernelspec": {
   "display_name": "Python 3",
   "language": "python",
   "name": "python3"
  },
  "language_info": {
   "codemirror_mode": {
    "name": "ipython",
    "version": 3
   },
   "file_extension": ".py",
   "mimetype": "text/x-python",
   "name": "python",
   "nbconvert_exporter": "python",
   "pygments_lexer": "ipython3",
   "version": "3.8.3"
  }
 },
 "nbformat": 4,
 "nbformat_minor": 4
}
